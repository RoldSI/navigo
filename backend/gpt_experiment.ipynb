{
 "cells": [
  {
   "cell_type": "code",
   "execution_count": 1,
   "metadata": {},
   "outputs": [],
   "source": [
    "import openai\n",
    "from utils import GmapsUtils\n",
    "from dotenv import dotenv_values"
   ]
  },
  {
   "cell_type": "code",
   "execution_count": 2,
   "metadata": {},
   "outputs": [],
   "source": [
    "\n",
    "env_vars = dotenv_values(\".env\")\n",
    "OPENAI_API_KEY = env_vars[\"OPENAI_API_KEY\"]\n",
    "openai.api_key = OPENAI_API_KEY"
   ]
  },
  {
   "cell_type": "code",
   "execution_count": 6,
   "metadata": {},
   "outputs": [
    {
     "name": "stdout",
     "output_type": "stream",
     "text": [
      "t_du=[{'bounds': {'northeast': {'lat': 52.52585999999999, 'lng': 13.3759282}, 'southwest': {'lat': 48.99443669999999, 'lng': 8.401297}}, 'copyrights': 'Map data ©2023 GeoBasis-DE/BKG (©2009), Google', 'legs': [{'arrival_time': {'text': '3:54\\u202fPM', 'time_zone': 'Europe/Berlin', 'value': 1687096466}, 'departure_time': {'text': '9:59\\u202fAM', 'time_zone': 'Europe/Berlin', 'value': 1687075168}, 'distance': {'text': '651 km', 'value': 651427}, 'duration': {'text': '5 hours 55 mins', 'value': 21298}, 'end_address': 'Berlin Central Station, Hauptbahnhof, Europaplatz 1, 10557 Berlin, Germany', 'end_location': {'lat': 52.52585999999999, 'lng': 13.3696436}, 'start_address': 'Karlsruhe Hauptbahnhof, 76137 Karlsruhe, Germany', 'start_location': {'lat': 48.99443669999999, 'lng': 8.401297}, 'steps': [{'distance': {'text': '0.2 km', 'value': 200}, 'duration': {'text': '4 mins', 'value': 212}, 'end_location': {'lat': 48.99320780000001, 'lng': 8.4010196}, 'html_instructions': 'Walk to Karlsruhe Central Station', 'polyline': {'points': 'gf`jHc{gr@CN?F?DLr@?BXdBDCPKFCJGFEDCFCJIJGJEJGNIPIPIPKNIHE'}, 'start_location': {'lat': 48.99443669999999, 'lng': 8.401297}, 'steps': [{'distance': {'text': '73 m', 'value': 73}, 'duration': {'text': '1 min', 'value': 59}, 'end_location': {'lat': 48.9942634, 'lng': 8.4003557}, 'html_instructions': 'Head <b>west</b> toward <b>Bahnhofpl.</b>', 'polyline': {'points': 'gf`jHc{gr@CN?F?DLr@?BXdB'}, 'start_location': {'lat': 48.99443669999999, 'lng': 8.401297}, 'travel_mode': 'WALKING'}, {'distance': {'text': '0.1 km', 'value': 127}, 'duration': {'text': '3 mins', 'value': 153}, 'end_location': {'lat': 48.99320780000001, 'lng': 8.4010196}, 'html_instructions': 'Turn <b>left</b> onto <b>Bahnhofpl.</b><div style=\"font-size:0.9em\">Destination will be on the left</div>', 'maneuver': 'turn-left', 'polyline': {'points': 'ce`jHgugr@DCPKFCJGFEDCFCJIJGJEJGNIPIPIPKNIHE'}, 'start_location': {'lat': 48.9942634, 'lng': 8.4003557}, 'travel_mode': 'WALKING'}], 'travel_mode': 'WALKING'}, {'distance': {'text': '138 km', 'value': 137808}, 'duration': {'text': '1 hour 8 mins', 'value': 4080}, 'end_location': {'lat': 50.10551700000001, 'lng': 8.6610564}, 'html_instructions': 'Train towards Hamburg-Altona', 'polyline': {'points': 'mb`jHi_hr@pBbCMu@_ByJG_@]iB[oB[qBc@iCU{AOaA[{Bg@aDq@uEWeBYeB?Ac@qBM{@M}@G_@YwAMm@Os@SqAWgBO_AO}@Ko@EWGYOs@UkAWkAs@_Do@sCm@mC{@{Do@oCMm@y@mDw@mDCM]yA]}A]aBYyAYwA[aBGWm@aDY{AKo@AI_@kBSiAUgAi@uCACo@{Co@yC[qA[mAEQWaAK]Qq@c@{A?ASo@Og@]mAY}@GM_@mAc@mACKaAmCe@kAc@kAcByDk@uAm@uAmAsCUi@Uk@CGEK}@sBUi@Uk@Wi@Ui@s@aBO]Uk@Ui@iAmCKUa@}@KWUi@Ui@Wi@Qc@CGUi@Wi@Uk@[s@g@kAUg@IQqAeCWi@Yc@aAaBKOeBeCu@}@IMKMm@q@OMMO]]o@o@MKSQSSCCm@g@EEa@[_@[m@c@g@]y@i@GCaAi@q@]sAq@KEkBu@s@SiBe@ECGAKCqD_AsAYgAWmBa@kFeAoJaBwCg@mHmAqDu@q@McB[qAUICq@KyAW}@OcB[iAUUEOEWG}Dq@QCOEOCiQ}CGAaBY}Ba@SESEkB]eAQSEUE_AQyAWm@KUGYGc]eG[Ek@KiB]a@Ie@IYGc@IiB]gB[WGOAmCe@{FcAGAGA_@GOCcCc@uFeAs@MSCOC_Dk@yE{@yWwEgB]kCe@oEy@mASwFcAcDk@mEw@cEu@mF_AoDo@MCKCqAWaC_@mMwB_AQa@GGAeB][G]GiB]iB]qHsAcI_BkKiBqCg@c@KGAi@MiAU_@GgASoUcEQCQEqRiDcAQ}]mGe@KiB[iB]gASuT_E_PuCiB]iB]KAGAMAQEqDo@cGgAgB[gDg@a@IkBWaDg@SESEeASaJ_BgASgB[WEGAMCiB]eASsE{@sE{@cASQCOCkB_@eASICc@GCAIAg@I]I{@QICc@Iy@OmJgBiDq@i@KgASkB[SEMCGAgDm@eKiBwB_@YEMEoB[]IOCyAYaASeDk@aF{@mHoAiHoA{AWkEu@mKkB}HsAiB]uB]WGGAYEAAmCe@oDo@uE{@A?wGmAaJ_BaASgJaBaAQg@KmAUy@OCASCOEMA_Cc@iB]c@I{@Q{VuEyJiBwFcAc@KIAGAUEkDm@sEy@c@Ii@IuKmByCi@iB[eB[YGKAYGoAQaAOEAOCKCi@GmBWgBQsD_@yBS_CWcBQcDe@SCeGs@iEc@}Gq@c@EsD_@mCYc@EgAMe@E_@Ec@Gc@EgAMa@Gc@EkBUc@EeAMkBUaRwBmGY_D[iEc@KAmCYgAMqAMc@GkAMw@IsD_@aBQkCY}N{AiEe@KAKAgD]WCKAqDa@aPgBQASCwOeBsAOiGq@mAMeJaAiLoAiKmAeBSmEg@MCcI{@_@EeD]MCOA]C_@E]Ea@EaCU}BSgDUgCSaBIo@EqCIsC?c@BO?O@gADw@ByAD_CN_D\\\\wAH_AFyCb@aEp@yBXuAR{Cb@eG^uF`@kBJyAHkBLeBLi@DaAHgAJcDZgD`@yARaBRkBTqBVsBTsBRuBRsBNmBLkBJkBHaBFcBByADcB@kB?sB?sBAuBEuBEsBIi@CiAGkBKiBOkBOeBO}AQOAiAOyAQiBYsB[sB_@qB_@sBa@oBc@i@MgAUqBg@qBg@qBi@oBk@sBm@}Ag@}Ag@}@[cA[i@Si@UgA_@}Am@oBu@oBy@UKwAm@mBy@mB}@kB_AmB_AMG}Ay@mBcA_B}@eAm@aAk@gAm@kC_BsAy@mAu@SKiBgAcBcAuAy@wA{@[Sw@e@wAy@sAy@cBcAcBcAcDmBcC{AcCwAsD{BsDyBa@UsEuCqA{@_C}AiBmAgBqAo@e@o@e@_BmAo@e@e@_@oAcAg@a@k@e@oB_BwAiAgEoDGGWSWSaCoBkHaGuBgBe@_@iCsBQOAACAGGMKIKs@k@o@k@m@e@u@o@cBwAcBuAcBuAgBwAcBuAeBwA}AoAoAcA}AmAeBsAkAy@]WA?_@WcAq@]U_@WYSgAs@_@UAA]UaAm@IEiBiAkBeAkBeAkBcAcB{@sAq@eBy@kBy@eCmAA?yAm@yAk@cBo@cBm@aBm@cBi@gBi@wAc@iBg@cBe@kBe@gBc@iBa@iB_@iB]kB]mB[sB[sBWsBWeAOaBUm@IgBSg@E_@E_BQkP_By@IeBQgBQoHs@oEi@uFo@yDm@iCc@e@IeCe@oCg@iAWA?{Aa@eA]sAa@yEuAyDmAgFmBs@[eBu@ICiAc@u@[a@QEC}@_@cAe@aAe@]Q{KsFyAs@mDeBcOuHiRoJs@]k@YUKkB_AqNoGs@Wi@Uk@UgFiBqFcBQG_EgAa@KuBm@qD}@aDm@gB]sDo@eAQsAU[Ek@KQAkBUgAOe@G_@EsAMc@E]CgAMC?iCW]Ci@E}AIqCQuBG}@C}AAm@E}@AyBCu@EqACa@AqCA}A@q@?O?]?oA?u@?q@?_@?Y@kBD{AHyKd@yBJmF\\\\_CPu@F_@BI@u@F}C^[DeUdDcANC@iAPgJvAcEn@]FcFx@SBsJtAkC`@oC`@SBs@Jk@F}@JgALsDb@y@Jo@JwFt@gANaBTk@FkBRk@Fk@Fa@DeFb@kCRgCRwAHs@FwCPiBHq@Bk@ByCJwCFkBBwCFa@@qA@sB@S?oB?gB@wCCaBCU@U?_EG_BGgBGgDSc@EMAA?QA_@C}CUmCWqD[_D]sKaAuJ}@OA{Go@}CYQA{PcByLmAwBUiD_@sHi@mBKS?gEIsBCgB@_BB_BDcCH}BLmDReDViBLiBRuC^sB`@gBZoBd@yCn@y@VaBh@kGpBwBt@iFdB_Bj@oDnAgDfAq@Tc@LMFiBb@_BZyARgBP_BPeBPsBP}AN}BRgDZcCT{APcET}CNwANc@DaCj@kA^oCbAeClA_BdAwAhAaBvA}AtA{@|@sAtA_BfBw@`AkBhCwAxB}@xAgAzBaAvBm@zA}@bC{@bCQl@AFQd@i@`Bm@jBeA|Da@~A]jAq@rCSz@qAfFsAnFiBnHyAbGOd@_AzDcB~Ga@zAk@~BAD{@vCoAfEiAlDg@zA}HjSyFlOO^yBvFGNQ^GNENqE`LgAlCuCdHiCrG}BvFk@vAe@fAGNO`@S^KRWn@cApB]l@A@_DbHQZy@|A[j@g@z@U^[d@Yd@KPMPCBW^oCzDk@x@q@bAq@fAg@v@q@lAW`@Yf@Wf@MRKReAtBc@fAOVYt@O^CFQb@KZGPGL{AvECHi@bBUx@}@xCq@`CCDQn@Sl@GP]jA]lAY|@[dA[dA]dASn@GRUv@cAzCOf@Yt@Wl@a@~@s@zAw@pA[h@eBfCg@t@MRS\\\\S^S\\\\OZMZ_@x@[t@a@dA{@xBeCfGk@rAcAjC[v@]x@Sh@Uh@]~@[v@Qd@Wl@]x@Qb@g@|@u@vAk@xAs@lB{@xBeAhCWp@i@pAWp@e@hA?@[v@IRu@fBADa@dA[`Ag@|AMp@Mn@Of@KZIXMd@Ob@W|@K`@KZSt@Md@ABKb@Mj@Kd@G^ENGn@WrBOpAMrAInAIzA?HK~BEpACd@IpAKjAETKt@WpACJe@`BCFUl@_@z@i@`Ai@`AKNMTMP]d@o@z@STQRKJ]ZKJSNWTEBa@X_@TEBk@XKFi@TIBk@PODIBYFYHk@HOBQBI@{@Le@DUDiALA@gBT{@Jm@Hq@Hy@J]Di@Ho@HUBgAJKBuBLq@@c@@I?C?c@Cc@Ag@A_@Cq@G{@IKAcBQGAgAK[EE?yAQQAc@GYCyAQs@Km@GYGaAOg@KuA[SGe@Mu@UKE}@Yg@UiAe@WMg@YC?gAo@a@UYQMGYOECYQGCa@S_@SIEWMa@SOIQIaAc@AAa@Wa@WUOaAm@SMc@_@EGKGKI}@u@A?][SQII]_@_@]?Au@u@KKQQ]_@]][]{@}@{@}@cAeASUk@q@sA{AeAsA_@i@c@k@SY[c@GIQYk@{@U_@[e@GKIM_A{A[g@u@kAmAoBm@_A{@qAm@aAc@q@OWc@q@U]CGYe@Ya@ACYc@KOMU[e@CEo@{@IOYe@MQg@w@IMu@kAw@oAy@oAGKe@u@q@gAQU[g@Yc@Ye@CCU_@Yc@AAYc@S]EGk@_Ao@}@EIi@u@MQi@y@KM}@sAi@u@a@k@GKg@{@KOWc@KO]k@u@mAeAcBeAaBq@eAiA_Bs@_Ay@eAo@u@q@u@aAaAkAgAkAaAq@g@q@i@aAm@IEe@[y@e@q@]c@Sg@Wg@U_@Og@Qg@Se@Oe@OWGUGo@QGA}@SCAy@Mw@MUCg@Cw@AoACYAs@C]@Q?I?[?[?Y@W?[@[A[@U?k@?_@@u@@y@?cA@o@@w@?Q@c@@q@?G?]@kAFwFAu@?yA@S?m@?gCBqGB}FB{LDE?_H@sC@yC?iAAwMCcSBgA@yA?W?W?kA@U?U?i@@Y@m@?cI@S?}BBuD@aGBA?{@@sC?M?s@@O?mD?Y@mHDqC@aE@wKFC?gJDc@?sA@qE?cFDoC@U?iA?}DBU?kDDmBAaC@iB@s@?gDDQAkED}C?U?aB@}C?qEDyC?yBBcC@sC@}A@sA@cCB[@cCD}@@Q?qA?Y?qA@Y?K?I?q@@U?c@?kB@a@?oA@}BBo@@cF@cC@{CB{@@oBBcA@i@?eBFU@uBNs@H}ATSBqBb@cEbAoGhBwA`@yBj@wLrDyEvA}Ad@wGjBA@uKtDiA`@gBn@cCx@i@Nc@Li@NWFOFQDgCx@A@eAZqDhAaKzCyAd@UFWH_AXy@Vc@LeA\\\\cAZkCx@YHaI~ByAb@aGjBoCz@eCv@gF|AcOpEOFc@L_LhDeA\\\\a@LsFbBa@LsDhAaBf@qIlCIB[Fi@PoQjFc@Lk@PODwQvFkDhAODMDOD_AX_AXc@NwH~BeAZSFuBn@IBIDWFeBh@eAZa@La@Nc@La@Lc@La@LODQFMDc@LgBh@o@RSHeAZkCx@ODMFmCx@eAZeAZeAZeAZ]LC@a@LOBE@a@L[H[Jc@LcA\\\\eAZiCx@eA\\\\kCv@wHbCSDQFg@PkCv@y@V{@Vw@TgBh@a@LIBYHqFbBc@La@LgBj@SDQF}Af@a@LkCv@GDKB}@XeAZa@LkIfCwBp@cEnA{DjA_D~@o@RsBn@{Ad@yH~BqBn@}Ad@gEpAmA^uGpBsFbBaDbAaHvBaDbAqBn@uBn@UHcCt@u@Ts@TiA^eIbCsF`BeAZk@NA@c@LA?cAXmDbA_@Jg@HYFk@DK@kA@qAGIAeAK_AQe@SYKsAe@kAq@eAaAs@y@a@e@c@o@QU}@wAcA{A{@qAQYyAuBcA_BKOm@_Ay@oA_AyA_@m@_@m@a@q@_@k@_@o@u@iAOUEIOS_@o@W_@i@y@Wc@k@}@a@k@u@iAa@i@aAqA[a@_@e@c@i@Y]a@c@][ECW[a@_@[[QMuB}Bm@o@wB{BeDeDqEqE}@{@gAiAUWGGCCuAuAyA{AoBmBcBcBuBuBMOGIIGkIkIuDuDKKeFeFqAqA_D}CuCwCSQ{F{FaAaAuAuAoFsF}OcP{@{@Y[aA}@WYECSU_AaA_@]]]yAyAGIIIuAuA{@}@yAyAyA{AyDyDMMMMeAgA{@{@sDuDuDuDeLiL{CmC}AoA_@Wq@a@kAs@cAo@cCiAiAg@i@UgBu@WMWMuEuBcAe@wLmF[OuEuBaGiCIC_DsAGCGCq@YSKKEKEwFiCqI{Dc@OmAc@k@Ss@Sc@MgCg@aAQQCQCwCUC?cAGmAE}B@m@@c@@Q@Q@_CPG?E?A@A?I@iARw@LeAPeCb@{Ez@E@}IzAoEv@{AZwDp@aQbDoDp@gAReAReARc@Hc@HeARiB\\\\gARgLvBiCh@mCj@MB_Cd@SDq@PUFcAXwAf@oAd@kAh@sAp@iAn@gAr@KF{@l@eH`F_BhAaJrGaQ`MuEdDkIbG_BhAaD~B_CbBEDMHMH]VSP_DvBmBrAs@d@kBlAo@\\\\eAj@kAh@aA`@eA^gBh@{Ab@kB`@}AX[F}El@wBVqIhAE?iLxAgALyARs@HuEn@kBTuEl@wBXw@H{D\\\\g@H_JhAiBToC^cBTQ@SBgANgALKBM@sANwAPE@e@F}H`AuEj@C@u@Jw@H[D{@HsAHC?cADc@?]@mA?A?M?O?C?iBEeAGC?kAKoAOoASKCeB[}@ScBe@cBm@aBo@YM_@Qy@a@kAo@gAq@wCkBgAs@sEuCsD_CmBoAeHoEWMIEOI_@W_@UcDuBc@YgF}Cc@YkCcBoBqAcBeAaC}A_Ao@_@UaBgAGCYQ]SAAaAo@aAm@_Ao@{BwAOIKGiBkAe@[wEyCwSyMaDsBoEuC_G_DaAi@yEoCoBkAeF{CaAo@_Ao@oBqAaAm@[Sa@W_Am@a@UKIu@_@cB{@GCSKECOGcBu@SGeA_@i@Qq@U_AWkB]OCaAOKCy@I_CScBE]?sD?cIJK?gDBE?kG?uAAmCCiCCE?G?I?Q?kBCkBAaBCiHEm@?qBCw@AC?oBC_AA_DC_CC_HGwEEyFEwEEs@A{BCC?U@c@?uAAkKI_QOcBAwCCwEEaFEcCCyBAq@AcBAM?M?}DImIIgAAkBCc@?kBCkBCqNME?yFC_QEkJMaUKqAAmJI]?eECSAmXS{ECmAAsBA}EE}JIgAAsBAUAM?K?cCAsDAsBAY?[?]A[AcBAk@AE?K?g@?_Ga@y@Ge@@{OQ{BE_KSyCKe@Cy@GK?o@Ee@CcAGkBKsCSy@Mm@Kk@Ki@Mm@MGCoAYk@Qi@SSGSGiBs@eAg@aAe@eAk@}@i@y@i@{@m@y@m@m@g@e@_@k@g@i@g@m@m@g@g@g@i@e@i@m@s@i@q@MOKO_BsBcBuBGKGGu@iA[a@[c@AAUYCEY_@y@eA[a@w@eAoBiCy@eAw@cAmBgCEGGGwAmBW]sAgBmCmDkCmDw@eAeLkOw@cAoBkCIKQUuAiBw@eAua@{i@aHiJ_@e@cAqA{LaP{CaEIICEmj@yt@aC_DsH}JyBwCGGEGEEgDqEyWw]qRmWaAoAwDaFGIIK_JqLgAyAq@{@{@uAmFaHgIuKKMII{AwBGIEGcCaDmE}FU[wBoCIKYUY[CCWW][u@s@cCiBCA}OqJKGIGaAk@a@W]QCAOKQIKGu@e@_@Wi@]gAs@y`@mVAAcAk@cAk@CC_@Y_@YCA_BaAaBcAmC_BKIq@a@eMuHqBkAEEe@[ECCCGCGGQMsAaAg@[QKqOoJsIiFw@g@ySkM}DaCg@[gBeAaGsDeEgCwBsAIGuAy@a@UCCc@WoAw@aAm@kLgHgAq@{@i@_@U_BaACAmBkAu@e@YQkAs@sA{@{A{@wA}@yA}@CCWOIEy@g@}@k@k@]AA]SaAm@EEs@_@GEo@a@{A_AeBeA_CyAu@c@k@]s@e@cBcAsAy@cBcAWQg@[YQo@a@s@a@_@UwA}@IGWOIE_@WWOy@g@o@_@u@e@}@k@y@g@y@e@w@g@s@c@w@e@w@g@u@e@cAm@gAq@gAq@cAm@eAo@{@k@{@g@{@i@w@g@i@[y@g@}@k@kAs@_Ak@{@g@o@a@{@i@o@_@}@k@u@e@e@Yq@a@s@c@[QMIiAs@sAy@_Ak@iBiAs@c@cAm@aAo@GEiBgAgBgAKGuAy@CAaAm@_@W_@UwD_CqCcBOKqAw@y@g@GEuA{@oBkAiAs@eDqBqCeBGEqBmAq@c@yBsAiC_BeC{AuCgB_EcCwCiBc@WyDaCoEoCuD}B]SgFwCsEqCwA{@eDsB_BaAWQgBgAeAo@_@UQKcC{Ao@_@_@UmAu@u@e@a@WaBcAaBcAmBkA{@g@[SYQ}@k@IEaAm@KEs@e@cAm@QKgAq@GEaAm@uBqAmCaBuA{@q@c@{@g@yC}AOKQKQKQMkCoA_Bw@c@Ug@[c@[c@_@e@g@g@m@c@o@[g@OWS_@Yo@Ys@Uk@Qi@Qk@Qo@Mo@I[GW[eBYeBOcAO{@SyA]sBMw@Mu@_@oBk@sCq@kDYuAQw@e@eCKi@_@mBMs@Qs@Mi@U}@S_AMo@[}AQ_AQw@Os@Sw@Qs@IWIUSk@Ui@Wm@Yk@[i@U]U[[a@]_@]]][a@Y_@W]Sa@Sc@Q_@M_@Ia@Ie@Ga@Cg@Aa@?]@m@D]DG@g@Je@LQFIBa@PYN_@ROHMJq@b@s@d@IFm@`@s@f@WPsA~@wAbAu@h@iAv@{@n@aAr@m@d@q@h@_@Xi@b@SN_Ar@u@j@IFaAn@OLGD_@X_@Xw@h@{@j@EBaAl@_@V_@TaBdAy@h@iBnA_BhAOJoA|@YT[ReAv@gAx@k@`@s@h@sCtBKHaAt@{@l@GDEBC@ID[Nm@ZYNg@REBa@Pa@Pa@RcAd@EB[La@PWLIDe@RWJUJa@REBi@Ta@NIBWJE@]HA@k@J[FG@WBK@G?[BA?]?Y?O?QAQASC_@EIAe@K_@K]Ka@OA?e@U_@S_@W]WQOOM]]]_@[_@W_@Ya@_@o@[m@Sc@EMUg@[y@ISu@{BIUgBiG{@wCo@yByAaF_CeIOi@wA_FY}@[gA_@oA_BcFuB}GqBwGUy@qAmEaAcDqAqE_@mAk@qBg@cBa@yAW{@e@gBg@gB_@wAs@sCkCgKs@sCeAcEq@mCEQMa@a@{AIYq@qB{@kC{@kCm@eBMe@y@mCAEvGlC'}, 'start_location': {'lat': 48.9938334, 'lng': 8.4019659}, 'transit_details': {'arrival_stop': {'location': {'lat': 50.10551700000001, 'lng': 8.6610564}, 'name': 'Frankfurt (Main) Hauptbahnhof'}, 'arrival_time': {'text': '11:11\\u202fAM', 'time_zone': 'Europe/Berlin', 'value': 1687079460}, 'departure_stop': {'location': {'lat': 48.9938334, 'lng': 8.4019659}, 'name': 'Karlsruhe Central Station'}, 'departure_time': {'text': '10:03\\u202fAM', 'time_zone': 'Europe/Berlin', 'value': 1687075380}, 'headsign': 'Hamburg-Altona', 'line': {'agencies': [{'name': 'Schweizerische Bundesbahnen', 'url': 'http://www.sbb.ch/en/timetable'}], 'short_name': 'ICE372', 'vehicle': {'icon': '//maps.gstatic.com/mapfiles/transit/iw2/6/rail2.png', 'name': 'Train', 'type': 'HEAVY_RAIL'}}, 'num_stops': 2}, 'travel_mode': 'TRANSIT'}, {'distance': {'text': '257 km', 'value': 256734}, 'duration': {'text': '2 hours 19 mins', 'value': 8340}, 'end_location': {'lat': 50.972551, 'lng': 11.038499}, 'html_instructions': 'High speed train towards Dresden Hbf', 'polyline': {'points': 'ylypHoyzs@mAlASm@e@wAy@aCSm@MYCGCGe@iACEAAAAcBiDkBqBo@k@qBiAiHgC_Ae@oA{@oAgAiAuAcAwAgAcBiAoBo@iAMUGSa@eAe@kB_@}BQ{BCwBBsABk@BSLcBhBcOJqABc@@SDw@VgHBm@?S?U?eAGeCQ_CAKIi@S}Ac@wCUyBQsBGsC?gEDcD?mCACGuCGiAKoBEcCAcAAqA@{@@uA@q@HgCN{BXaCb@eCb@qBDQJ_@`@qAx@kBz@yAfAsAnA{A|A}AzB_ChA}@nAk@|A]zAOrA@xAFh@HtC\\\\hDh@jHhAx@FX?L?t@?^@jAGrAYvAy@\\\\[XUXYxAwBFK@CrAeDpAwFTaBXoBXeGAwBA{BScEi@iDSmA_AiDcAaCAEcDsIEMaAsDm@iDSgA_@uDSeEC_FG_L?WA_AGiFYuLIgDI}DAi@Ce@O}GUgKIeDEsACsAC_AOgI?CEcDa@uY[eRIyC}@{[QwGQ{GAa@W{HCiACw@[oKUgJmA__@AYHiHxA{MzCeUz@sGlEgSjB{IbB}H`AgGf@{DLiC@uFBiEGoBAQOqBGiBAWS}FEaAUeGEiAEiAKeDMeDGmAEiAKcBGs@Go@Is@QuAQqASoAWoA[yA_@wA]qAk@cBq@qBuAcEoByFKWeAgCe@yAa@kAyAuE[cA]cAm@oBaAyCk@kBm@mBaBeFeBsF}HsVkBcGWw@o@uBm@uBOi@kBcHgG{TuFsSiFqRc@_BQq@Qo@]mAQo@GWIYQo@e@aBAEa@yAK]WcASq@WiAYkAUeAScAQaAMo@CMQmAAMKs@Ku@Gm@Kw@I_AMsAAOEm@IiAIoAASEeAG_B?SEwACgACk@Ai@Ag@Ag@GoBAo@C}@EkBY_LMwFSwHKaEUiKQgHUcJYuKMgFE_BOuFAe@?IA]QqHu@g[_Am_@UmEMkF_@kOEoBGoBCu@Au@IgDASGsCKqD_@gPi@_U_A{`@}@a_@GgCEyAC_BA{A@wA@yAD}AFqAFgAH}@F}@TmBT_BXgB\\\\mB^sBJk@x@uEpAcHRmANaAN}@Hq@JcAHu@F_AD}@DaABw@@s@?w@?w@AaACeACcAGgAIeAMkAOkASoAUiAS}@Qs@Og@Oe@i@}Aa@gAy@qBkBoEAAk@uAQc@e@iAa@aAuAkDACm@wAgAqCc@iA?AUs@Qo@Oq@Q{@Mq@Gg@AGIg@Ge@I}@MeAEe@C_@IeAEq@Ek@?EGwAAc@Cc@AcACeA?aA?u@?}@@m@@m@BcAF_AD_AF}@F_AFq@Hs@Js@L}@Lu@TkATaARw@Pq@Pk@Ro@To@Vo@~AsDLYBEHS^y@^y@`@{@~@uB~@uB|JkU\\\\w@jAmCfBgEnEoKzAmD?AhAiCbAeCNc@Vw@b@yAVaATgANw@BORkANkALuADg@Bc@Ba@Dq@BkABk@?w@@q@?u@Ao@Ao@Cq@Ck@Ck@Em@Ek@Gq@Iy@OgAIk@O}@Mk@Ke@Qw@Ss@W}@[aASg@Qc@Se@Ue@We@Yg@U_@U]W_@Y_@SUQUg@m@{@}@[]wB}BCCyAaBm@u@i@s@S[OW_@o@w@wA}@kBk@oAo@_BK[e@kAy@}BwD}K_EuLw@cCq@{BeBeGs@cCq@}Bw@eCw@}BkAmDcBcFOa@]}@K_@Og@gDyJyC}IqAyD_P_e@Qi@i@_BqAyDK[ACEMISIY}@iCg@}AoCcIaAuCa@oAIS{AsEUm@{@iCwDaLcDoJg@}ASm@Sm@i@{AIYM[AEUs@Sm@Um@g@{Ag@}A{DeLc@uAmCeIeBoFM_@_AsCeA_DeCkHqAyD{@gC}@mC_@iA[aAKWEO}@qC_@gAk@{AGSaDqJmCeIcBgFg@{ASm@Uo@Og@Qg@Sm@Um@Sk@Um@Um@AE_@iAs@{BkAaEg@mBEOaBkHOs@y@sE]}A_@cBq@uCOq@?COm@o@wCo@uCAG}AeH_AgEkAkFK]mHi\\\\gBeIiG{XeAuEkCuL_E{Qa@oBe@wBg@{BmA{F_BmHMm@kAqFSaAMq@kBcJ}AoHKi@AI}@iE?Ae@}By@uD}@aEs@iDa@aB{A{Ga@gB_@aBOo@uC_MwAeGoBoIq@wCaAcEyAkG[oA}@wDu@cDAA_CoKGUMo@_CyJAIe@wBaCkL{AkHo@{CQ{@[yAy@{DCOQq@a@kBMi@_@cBUeAaAmEWkAy@sDu@kDS}@_@aB]yAMm@q@{CMk@cGiXyAyGeA{EaCqKqCkMm@mCyB}JGSuAmGi@cC_@cBCI{@_EMi@a@kBo@wCs@_DmByIoC_MIa@{CgNIYG[kAoF{@}DsAiGKc@qAyF_@eB_AgEy@sDu@kDs@_Dm@mC]}A}@eECI_@cB]aBMk@CGIc@EO_@cBOq@_@cBCMgBeICKe@uBS}@Q{@a@uBYoAWsAWwASsAQmAU_BAEQsAQ{AUoBUaCa@aEcB{P[gDIu@MuAWcCg@eFIcAYsCc@wEuAgNGu@]eD_AyJ_AsJQmBw@_Ik@}FMqAm@oGo@mG?IKaAKiA}@}IQiB[eDa@gE}BuUm@gGoAqMWaCUqBsAaNCa@CSASi@}FYaDKkAGs@mA_MKqAI{@s@uHa@uE[eDi@qFk@uFEc@}@{HCWe@yEGu@CYAKAI[iDOyACYCYGw@OcBMuBKyA?QC_@?KAI?Sc@{JUcD[_IKcDQkEKoBKoAImA]eDi@kEUiB_@yBAEUwAiAmGoA{FmA{FQy@Ke@W{@Qe@{BsGgBeFYw@Wk@Wm@Wq@{@kB_BgDqBcEkBkD}BgEYi@m@eAqA{BS[sEeI{@yAQ[q@oAYe@Yg@AEUa@kAwBYg@Wg@Yg@OYIMq@oAYe@Yg@Ye@Yg@EGS]MSKQs@mAYg@IMQUu@iA]g@eFgGSW{FuFAAkG}G[[yA{AuDuD{B}BY[wCyCwA{AwCwCCCsCuC}@_AgAgAuCwC_@_@qBqBsAwAsCuCa@a@]_@eAqAaAsAy@qAKOu@uAiAcC[y@Wo@Qk@c@sAUy@i@mBy@}Dk@yCG[c@uFMeCA]CiAGmBAmD?{A@i@JkDZyFBc@ReDJcB\\\\yE\\\\uFDw@LcC@c@@]?iC@K@cA?_@?}AE_FOaDCWMwA[wC]sCg@{CWqAe@iB?Aa@{Ay@}CyAsDq@oA_ByC}BiEq@oAq@oAoA_Cc@y@aBwCuA{B_AsAW]mAuAmAeAm@i@OM][yAoA_@YAAKI}@w@]YAA]YcIsGuC_C}E}D_@[{E{DmAaAmGeFsDyCKIIGiI{GQMQQ{FyEyE}DaAu@}AoA}@s@{EiEqBiBi@_@u@k@wBcBoAcA{FsEeB{@YMw@k@qEuDuDyDgBgCyAqBm@gAi@aAu@{Ai@sAy@kCa@oAEOQo@]sACMOm@ACE[EWCK_@mBGa@EOCS_@eB]eBEQsA{LGc@Eg@k@wEe@yDC]E]oA}KCQAIe@wEg@}EAUCSwCiXSkB[wCAIIu@Ee@MaA?CIu@Ku@SkB}AeNq@gGCKAI?ECU_CmSGe@U{BgAyJ_@aDeByOaB_OE[{AsL_@uCIi@gAeKyBgS]aDUsBAQGe@AOE]]aDeDsY]kDmAgLGo@Ec@_@aD]aDk@qFEOAMCQIs@WkBQiAg@eDa@}By@iEe@cBi@oBM_@o@kBoAaDA?Qg@Qa@qAiCWk@iBoCy@iA_@i@QUaAgA[]c@e@WWeAeAUQMMOKOK[UCCUQ_@Wo@c@QIwBgAKGOIeAc@QGMGiEsBcAg@OGs@]_@OMIMGa@OeAc@IEIGe@UcAe@gCmAQIyDqB}HcDu@]qAm@}FqBk@WaCsAcAk@cDkBeEiC_@UsFkEi@e@uAoAGEEEYYQS{A}AuB}BmAqAw@aA[a@Y[yByCUYW_@]i@m@aAuAsBKQy@}AIOIQoAeCEIGMoDuGkE_Iq@oAg@}@IQsG{L]o@uFkKYi@Wg@GKQ[]o@S_@Yg@Q[EKYg@q@oAUa@CEWg@KSMUq@oAk@gAUa@yDgHCGSa@Yg@kAwBWg@Ua@[m@i@aAGOeB}CYg@e@{@KSo@sAYi@eAyBYk@EIm@eAe@y@KUQ_@]o@o@_BQg@Si@ACQo@Sm@?AOq@Mq@COGe@Ku@M_AImACS?EAE?GAIMyBKcBE}A?GEoDCmD?{AGcPIiOEaGEeCAGOeDWsDc@cEc@aD_@mBc@{Be@gBg@oBw@gCUs@oHsTISEMEKGUuDaL[aAu@yB]aA]gAi@{A}@iCqAyDeCkHq@aCo@gDM}@CSIw@KcAKwAAEGqAA]Cw@Aq@?EEoBAw@GgDCw@Ay@Aw@M}GQ{JMeJIcFQuC?ASgBMcAMw@W_Bu@wCc@sAi@_BgAaCeBkC{AaBWWw@q@m@a@KIg@Wi@SiA_@eA[AAiAQ{@CoCOgDU{BOwAKiAISEiASICm@MWK{Ai@A?{Au@[Sm@a@_@U?ASMKG}BkBIGUSAA[[]]SSIKOUIIAC]]CEIMKQYe@[e@Ye@Ye@Yg@Wi@Wk@aA{BACWk@Uk@Uk@Uk@ACyA_FS}@CI]yAKe@Ie@QoAKs@CME[Iu@Kw@Q}AM{AMiBGgAAkAAaB@aCH}DJgEDoB@_AD_B?I?I?S?YBoB@w@BoBN{N@wA?OBcA?MZiU?EFyEBuB@wA@kABmB?AAiD?QASAQEiACc@Ee@AQGw@Gs@Gw@CSUaBSeAoAkFM_@Qg@]{@i@kAKU_@m@kAgBOUSUqJ_KCEe@g@WQkCsCg@i@[]sAsAuA}AcAiAe@k@YYSYY_@Y][c@q@gAOW[o@KU]u@c@iAq@qBSu@G[Os@YaBWmBAMWmCS_CS{CWcCC]QmBOgAI_@SeAKe@YmAW{@ACSu@Uq@k@kBiAyCqAkDg@iAMYs@yAmAkBcAkBk@_Ac@u@mA}BiAiBeAmA_BmBACcBeA{@e@i@WUK{Ag@wA]i@KWCWCYAg@AeAA]@S?O@i@@w@Jc@Hi@Lc@La@LGB[JKD[L_@P[LA@_@RcAj@SJKFWLk@ZQHYPYR]T_@Xc@`@u@t@A@y@fAk@v@e@t@c@r@{@tA}@xA[d@o@bAA@k@x@i@l@MNOLYVc@\\\\a@VIFi@Zc@TKDQHq@Ra@Lc@FI@M@U@k@D_A@iAGa@Gg@ImA]mAY{DkAuBo@UIyH{Ba@MiBi@{Bs@uBo@eA[c@Ma@MQEs@WAAEAEASGUEsA_@eAYOEs@WkA_@{Am@yAcAiA}@A?kAiA_BmBg@i@]W]c@OOk@o@Y[CCy@_AEGMMIKCEsAyA{@_AqC}CoC}CsA{A_@a@c@c@oNqPqMqOqMqOgFgGiFgGkJwKgBsBkJsKiAoACEGIqLyM{@aAqJgLMOMOaMqM]_@{@}@yA}AaMqM]_@oI{IoBsBqByBa@c@iGcHy@_AwA_BAAKKEGII{@aA[_@c@c@W]y@cAuAoBcAyAGK}@mBu@mBISGMu@wBs@kC}@wE_@gCKs@Ie@Iu@?AEYIu@Iu@Ea@CSIw@Gu@YcDIs@i@sD_@iCEUG_@Mk@AG?Ac@kBk@}BkAgDcBgDk@eAc@q@cA_BW_@[c@MOiAsAUWeBwAKISOOIUOKGQKa@Wa@SeCoAYMy@a@s@[gAq@QIyGsCcAc@oAi@UMOIQKOIs@Ya@OQIOGcAc@s@YuB_AQIOIa@UaAm@}@u@_@YYUEEoAsAGI]a@[a@wAgBGIOUCCYe@a@i@Ue@k@iAEGWi@kBwDcFmKYm@kD_HYg@c@{@oByDmByDyBeDW]}BqCaAgAm@q@MMgAgAiAgAsBoB][q@q@i@g@UUeAaA]]}@{@QOQQs@q@]]ECw@u@MMMM_A}@y@w@_@]AAgAcAuAsAeAaAmAkA{AyA{@w@a@a@gBeBgAgAs@{@u@{@s@_AQUW_@i@y@s@gAm@cAm@cAy@wAu@sAw@sA{@}AeAgBMWkB_DkAuBcAgBqAmBMSQYy@yAgAiBkAqBeAqBkAkCa@aAeAmCk@yA_D}HiAyC_C{Fk@wAWm@KU]cASm@_AiCi@{Ao@kBiDmIoAoCg@gAs@yA{@_CIUISm@uAyAmCAE{@}AgA_Bo@oAyA{As@{@MO}B}AwBoAaAk@UMqA[c@K_@Ie@IgASeASi@KcB_@uBe@qBa@oBe@wD{@qCiAmAgAwAoAcBkBeBmCA?Wa@S]mDkIoAgEeB}FM]sBaH{@iCwBwGe@_B]kAKYOe@wGqSSo@oA}DM_@CIEQIY{CmJ_AuCyEeOg@}Ag@}ASo@{@kCSo@_BaFGSM_@CGACAGGQsBsGuDmL}@qCSq@aCoHM_@EMCIMa@_AwCIUGSoBeGEMEQ{@kCg@}ASo@w@_CCKCIIWEMg@}ASm@g@}A}CqJUu@g@}Au@cCCIACEMwAoECI{BgHoAgD]y@yAiDOa@_@o@Ua@_BwCcCiDMSOScAuA}@aAMO}@gAUUKKIGsAoAg@_@?A_D{BYUg@Y]UMGUMIEECKEECYMi@Ua@Qa@QAAaAYAAGAKEsA_@c@Ma@KUGsAUc@G{C_@KAIAK?sBOO?sB?}AF_AD}@Fy@Hi@FwANeB`@cFjAk@N_@HWFw@Nc@JmATWFC?SDODeATc@HeATODm@NaTpEwAXeARWFeATa@JiB`@MBI@ODo@JI@{@Ns@JI@G@oDVg@Bs@Ac@?gCGgAIi@GE?s@Km@Ko@Mg@Mw@S}@U_A_@qDcBm@]qAm@oCiB{CoBECGEm@_@MIMIgJ_G}E{CQMGEECSMqIuFs@g@QM}CqBYSEE{@m@]WaAo@_@W_@W_Am@a@YKGKGq@g@MI_@Wa@WOMOKo@a@OMa@Wq@e@MIaAo@IGoA{@gBmAaAq@_BiAOIuBuAMIWQ_@YGEOKy@m@_@W_As@OKOM?AMKOM_Au@_@[[Ws@i@OKeAu@{EkDoDiCm@c@SOm@c@y@m@GEm@e@iAy@w@m@eAu@k@_@SMSKYMA?YKWI[IYG]Gc@GCAc@IC?]GA?a@GSEi@Kc@Ka@McAa@sBaAwAw@UM_Bs@g@QaAUy@K]E]CgBOqE_@_BKeACkBGSAUAuBEYAm@Am@CYAc@AUAeBEgACa@CmGQoCKyGQ_AEwOa@eCBOAw@AQ?gCCgACC?gDV_C`@wAj@sAf@iAp@m@`@KHSP]XgAfAg@h@m@x@[`@uAzAqBtCeGdI{B|Cy@fAmFlH_AlAmAvA_@b@uAvAoBzAkAp@QJq@TeA\\\\e@Fc@HC?_@HSB_@@_@@C?}@?I?YCq@Cw@Mm@Ky@W{@[a@Sa@USIcAi@CA}@e@OIGEIECC_CsAcE_C}CeBc@UyL{Ga@UeDiBa@UKGyC_Ba@UeAm@GEKIcB_AcAi@uDsBa@UkKqGu@i@YUo@g@eAaAeAiAY[[a@A?[a@_@e@Ua@OUKOKOMU_@k@Sa@Wi@_@u@O]]s@Sk@_@cAIWEIi@kBY_A?Cg@iBe@aC]sBG]_@aDAG?MUcCMiBCe@?GKkDCaAA_A@iCBqBBk@J}CJwAFo@FaAVwC`@cDHu@Hw@Ju@RgB?CBOFe@@ID[JeAJu@BW@K@QBQHu@TkBHu@Ju@TkBHs@RwBNqBFw@JaCD{ABq@@_A@W?_@?i@?OAw@?aACm@CgACg@GcAEk@Gw@Gk@I_AE[EYGe@COQ}@Kg@Ke@YkA]mAAEa@oAm@mBM]EOwBsGu@wBIWi@aBM]cAoCc@uAs@uBg@}AGSM_@Yy@EMIU}@iCSm@iBoF_CmGiAqBWe@]e@Yc@AAa@k@[a@WWAACCEEQQe@e@UUOMo@e@KI]UWOa@W{@a@u@[e@OQGk@QWGc@MOEs@Si@OeEiAwAa@}DgAGAc@MICiASOEaAMo@Ea@CA?s@@g@@q@HC?UDG@A?GB[Fc@HcA\\\\[JEBs@Zo@b@_@XC@}@v@s@n@mA~AMNWZ_@h@SVc@l@]b@?@EDCDOT[`@]`@KLQPY\\\\C@_Ap@g@\\\\YP[Nm@X_A\\\\cAVGBeAL_ADc@@I?eACsAOm@Ke@Ko@SoC_AICGAeHgCs@WGCeC}@{Bw@oAc@cA_@eA_@IEWGCAcBk@eA_@a@Oi@QyCgAwBu@gMqEeBk@a@Km@Oq@Oc@GOCe@Io@IYAg@EcAIoDOk@AaAAE?aB@I@M?O?yADo@@uFNuCHgADkBHK?K@W@oADc@@_@@C?E?G?U@gABa@@i@@yCC_AEq@EYCE?EAaAIIAwIsAgASGAcE{@kKwBoBa@s@I{Cq@}B{@_BkAGIeAeASYsAiBs@_Aa@u@m@uAg@uA{@mCQm@sAuEo@{BGQw@wBCGiAyBU_@OYy@kAe@g@uAyAc@[YSu@e@wAs@_@OYMkAa@AA{D_BsAo@iBoAIG{AqAq@o@Y_@{@aAi@w@c@k@{EmGs@cAGGEGgDuEq@{@{G{IkCkDIK_EoEuAkAy@o@s@g@kAq@c@UWMi@Wu@_@KEICa@Oy@YsA_@_@IGASEi@Kq@Iq@KeBKSCqBGoFGI?yHIaIIgAAc@?oCCC?EAG?Q?kBCO?S?y@AM?_FGc@AuFCO?O?uCEK?A?U@qFKe@C[Ci@Em@Ka@GA?YIa@KGAc@MUGWKUIMGSKOGQK_@U{@i@EEa@[]Wi@g@q@s@OQsA}AwAmBAAm@y@y@aAGI[]_@_@UUGGu@m@CCaAk@A?OIMGAAe@S]QICe@USKc@UaA_@s@Wa@Ms@Sc@Ka@I{@O]Ck@Ec@?m@@cADcBFo@Bo@@wAFsBH}AF}@BU@aADu@Bq@BI?}@Ds@D_@DI?[H_@Lk@R{@`@c@Ty@f@e@ZIFa@Zg@b@g@d@WV[ZSV]`@WZi@t@c@j@GHo@|@q@~@m@z@ORc@n@u@dAs@bAcAtAi@x@k@t@mAbBcAzA_@f@[b@u@fAu@bAsAlBy@jAKLOTiA~A_AtAU\\\\wApBC@mAdBgAxAi@x@c@n@iA~AeAxAsBtCe@n@mAfBCB[b@s@dAu@bAEF[b@Y`@w@hAg@p@OTy@hAeBbC}@pAo@|@eB`CmAdBuAnBo@|@_ApAwArBi@v@u@hAk@x@y@tAm@dAc@x@OX]l@e@dAc@bACDWl@c@jAQd@Wp@Yz@Sh@GRWx@Qh@W|@Md@Wz@AFM`@_@xA[dAc@xA[hAU|@_@rA]nAQp@A@a@vA{@xCy@|CSt@e@`BCLa@pAe@~AQn@Mb@W`Aa@tAY|@_@bASf@[v@MVMX]p@g@|@a@r@o@|@s@`Ag@l@]Zc@`@eA|@w@h@UNGBm@\\\\}@`@aA^{Al@EBiBt@aC`AgA`@gBp@_A^eBr@yClA_Bn@g@RiCdAeD|Ak@Xw@d@aAl@aAj@qA|@_@Ta@XA@EBOHo@d@wBdBCBu@l@oAfAQP{@x@[XcB~AwAxAUV_ChCuA~AiCzC_BjBkAtAeAnAqCbDmEdFiFfGKLKLy@~@{@`AUXKLu@z@CB]`@QPm@t@MLGHGFGFk@n@w@~@q@v@o@v@w@|@m@p@OPc@h@q@v@o@t@i@l@?@m@p@q@v@[^MNKLST_AjAC@yAdB_AfAoAvAg@j@_CrCc@f@uDfECDaAlAwBdCmDbEaCrCQPgFxFEDsClDsB`C[Z{@|@cBrA{@l@_@X_An@a@V_@VaAl@cC|A_@V_@Va@TcC|AaBdAkMbIgIfFiDvBa@XoCdBm@\\\\}@j@iGxDcEhCc@VcAn@}@j@a@RoAl@iBh@UHeAL[DoA@s@?gAG}AW_@Kk@Sy@]KEgAm@cAu@kByAuEuDg@]a@Wa@Qe@S_A]GAoAYiAQOAm@CqFLuEJM@gBGK?I?yAS]Kc@Ow@]w@e@SO}AiAAAgAaAeAsAmCcEyBcDy@kAs@}@QUg@m@u@o@e@c@g@[qAy@SM{@[sC}@wC}@wGoBaA[C?iCw@m@Q{@Ug@M[O_Ac@]MiAu@a@UcAu@e@_@SUuA_BsAcCaAuBWk@u@aBoGyNwEoKaAwBsBuE}AmDk@sAmCgGeB{DiAsBiBcDoAaBaB{AeCsBsBkA]OwAq@_B]}A[e@GcAMe@AiCGE?I@E?S?oCFqAB{ERG?E@Q?A@a@@eAFgADwBJ_BFsDLwEPsADo@@gC@aDa@OCu@WaCw@GCA?ECyAcA_Ao@g@]s@y@kAuAY[WYOQeBiDCCGOGSmB}Ec@eBy@iD]}BYoBQoAG{@GkAK{BGkAEoGF_D@{@@y@DiC^aN?_H?YWiGy@oGiA_Em@aBIQEKe@oA]q@q@qA_@s@oA_BqAqASQu@c@KGGEkAi@UGMCOEmAYaAG_AGoABa@?M?UDgARg@HaBj@]LeAr@w@f@cBxAoDnEOP{AnBcAbAy@x@cBlA]XqCzA{Af@}@XUBy@Lo@JgAPo@@qABwABwCWICeDs@eEyACAsAe@aAWMCwBg@y@K{CIU@y@Dw@DuBV_@HWDODo@NiA`@E@eClA}@f@u@f@}BtBKLi@l@o@v@sAdBaAtAkA|AuCzDmJjMiDrE{ArBs@t@eAjAyArAiA~@m@^i@ZeBz@]N[PiCx@]LuBd@SDuCd@qBNG?I?aDZa@DsCXuFd@c@D{E`@eCR_@DqGh@qK|@qIr@mCTsDZqMfAa@DqIr@}@FmDZwE`@S@M@M@O@E@WBaF`@wNlAiBN}Gf@_@BC@uE\\\\mDX[BE?SBI?MBgAJa@FU@K@W@Q@S@G?c@B_AJc@Dc@DeAJK@aCFoBIMAi@Gs@Q_AQOGWIMEi@Q}Au@s@c@eFeD_@UeEmC_@UQMMIcC}AeFcDeG{DuCkBMIGEgFeDu@e@kJaG}CqBaAk@g@WCAcAk@sCaA{By@mAc@oCgASG}CkAk@QqEuAWKuC_AcA]ICiGyBu@We@Qi@WmAs@eBmAgBuAIKmAmAoBeCaBcCkAuB[k@qAqCy@mBUk@m@cBqAaDYs@y@{BcAqCcAmCk@yAq@iB[}@s@iB}AcE}@wBc@{@Yo@k@oAs@wAu@gBa@y@Ym@y@iBk@kA]w@Yo@c@_Ac@eAEGO[We@y@_Bc@y@Ug@e@aA]s@[k@Se@MWUQaBuCqBiCcA_AmAgAoBwA{CsAq@S_Bg@i@I]GOAS?[EoASG?oDMA?_A?wCCwECiDC_AAE?K@sAAuACcICmBAiHCgDGyEMKAcDc@gAOoE}AcCuAwAw@sCsBOMcAeAsAsAoCyDyByD_@{@uA{CIQaD{IuC_IkBeFuC_IuCaIkDmJqD}JaAsC{CeIQc@{BmFqAcC_B}BuBkCWYaBcBWUMMkEyDsAkAeAcA{AwAyDqDgAeA_HsG_B_BwAqAoAmA_A{@QOAAKIKKEEk@m@GGKIUQaBeB_A{@{CoCGGEEkCeC{AwAoJcJuGiGyCsC?ASSIG]]MMKKAAkCeC_@_@[[}@{@o@s@UY{@cAe@m@OWS]a@o@Wc@u@uAm@gACEeAuB_BsDO[q@kBi@{AEMeBuEk@{Ag@qAs@iBk@_B[_AUu@W{@Mm@Qy@Km@QaAOqAASOyBUoCUsGCyA?qB?eBB_@@g@HcBJaALuADW^oCNgAJu@fAaIt@oFNcAHcAD[B]NuBBWDaA@M?EBYp@yOBs@Ba@HqBJoBTqF@c@Be@Dw@JeCBc@Bi@JmCB[^_ILaCNiDF_AJgBHuABy@D_B@MVwG?AFqADs@NoBFw@Fu@?KFk@Ds@Fs@@I\\\\yCRkBTkBh@oEB_@Da@f@oF\\\\eGBi@RgQ@uBAuC?]?YAiDAgE@uF@oC?gE@}AHwD@g@@g@Du@J}B@KJqAFu@RwBl@cFbAkGPiA`@gCn@oD?CjAaId@_DLu@DYFa@VkBRqANmAJu@BO@K?G@I@G?AViENsDHqB@Y@YHaD@}DE{HE{DG}E?a@?[?[?iCAqDL{E@q@HyBTeDH_AFi@b@yDBKBO~AoJLu@PcABQBUF[Ls@Ny@~@eGXmBj@iGTgFJoBJgCHyADw@Fw@Dw@@U@WJqBNgDHqBT_FDs@?EDw@TaFXqG?GLkCLmCHoBDy@HoBBe@@QLiDFiA?g@L{GB_AC}EAqBCeDGuBQ{GCw@AYAqCEcF?G@o@JkD@w@HaDF_ADq@F}@XuE`@cD@]B[ZqD@WPuDTsHTwGFkBl@mI`AiGd@mB|@wDZuAJ]dByGV_AJg@Vu@n@iCRcAVmADYJu@VkBFk@LiA\\\\cD^cD\\\\cD^cD\\\\cDpC{V^cD\\\\cD^cD\\\\cD^cD\\\\cDRmBNeB@IFw@TmDDo@Bg@Bo@Bq@?k@@m@@k@AKEeHOaDG_A_@uEE_@{@gICUCUi@yEmAkLa@gFCg@Eg@{BkRe@aE]sCAOEW?Ec@_EO}AUwB?CCQEc@Gg@KcAE_@c@aEMyAo@kFIq@UqBIu@k@yEAMIg@I_AK}@Ge@cAwJE_@E[AKUoB[_DAG?A?A?EAGAGAUC[]sCc@sDcAgJIu@_@mDAMAIAIGi@AGAG?CGg@OiAs@qG}@eI_@cD}@cICWCSSmBIu@Iu@Iw@Iu@CUK{@KsAO{AAQ[eDWyC[uBi@aEm@sDa@eCm@mDoAaFwA_F{@oCsBsGe@mBQq@Oq@]oAQm@AAQi@Sm@g@}Ac@qAK_@sAuEQq@IYe@_Bu@gCi@iBaAcDo@}B_A}CmBsG_EeN_@aBeAsEs@iEQkAq@cHa@qGKyFCkA?yFBgANmF\\\\cI@U@SPoEVmHDy@PkEDkAX}H@UPmEZoHBw@Bq@LsCBuA?_@?W@g@?y@?C@o@Ay@?w@AsA?yAKgDCw@EeB]cHq@_Im@aGC]CWU_CM{AGs@c@cDKw@UcBk@{COw@GSGWeAgEwA{FEQGYu@mCg@eBSu@EMw@eDg@qBq@qCMg@mAuEsAcFWaAACOi@mBkHQo@Oo@Oi@AGGUc@cBK_@Ma@AAESEKAGACACCIK_@ACOk@YgAGU{AyFu@qCGSAEACAECKCIs@mCYcAc@sAc@mAUm@MYKWCI_AqBi@eAeC_EKMmCoDIMcAqAqBkCwBqCmE}Fq@_AgBaC_BqBu@aAwAmBq@}@UWwB{CCEkA{AuAoB_AoA_@e@u@aASWa@k@]i@qA{BeAuBo@{Ak@wAe@wAAAMa@Qk@Og@a@yAOm@[yASy@]_B]yA_AuEKa@EUG[S_Aa@qBmAcGS_AiAqFk@oCg@cC[oASu@Om@Sw@m@uBISEKGSEMSm@e@oA]y@aAeCCCk@oAeCsE{AcCaAoAIMgBwBc@c@m@m@IKmAiAAAIGOIGIMMECAAMM_@YGEw@k@CCmAy@q@_@_B_AeBeAsBmAsAw@aB_AaH_EyBoASKoBcAgDuAyA_@GAkBg@gBYaBYaGy@IAuCg@mASaCe@wBo@{MoEMGOEgBo@a@Oc@Ou@YOEa@KkBc@UGm@Oy@MMAqBKeBB{@BIAm@DI@yAFyAHa@@M@_@?I@W?k@@c@A{@Ac@Ak@Gg@GYCGAKCk@Kw@UeA[u@YKC}Au@sAw@eAw@ECa@]a@]USQQKKKKqAqA{@{@AAaAu@wByBgKsKo@o@aCoC[c@oAcB}@yAm@kAWe@oBwEy@iC{@gDMm@e@aCiAcFo@uCG[g@iCc@_CSqAMu@Mq@?EIq@UkBKu@E[KsA?IKmBEiBGsB?w@?qB?c@H_E@QH}AFw@Be@Dk@B[Jw@@GPeBLaA\\\\gCBMFe@NeAJu@Ju@?EJm@?A@ODWLcAXiBJu@L}@v@eGVkBRwAHm@D_@Jq@VkBVkBn@wE`@wCXuB`@sCXwBJu@VkBb@aDVkBJu@VkBViBv@uFlA{Ib@_DJu@b@aDVkBJu@Ju@Ju@Ju@NcAFe@Lu@Ju@b@aDn@wEVkBNiAPoAv@sFjBcNb@eDjBaNPoAxAsKhBuMBU@MPyAj@uE\\\\_D`@gFXkEFoAT_GJgETsILaE@{@B}@NaFZmKt@kUPyFTkHNeGFyEK_GCgAKqD_@sEO}AcAcImAsHeAeHKu@_AkGkDaVw@_Fw@{Eo@mEwB{NAGQiAU{AE[EYO_Ae@qCOgASyAKo@c@{CAMcAoIYkCW_C[sC}@cIUmBUuBcAeJs@kGCUo@_Ge@iFM{BEs@Ck@EcAAc@AoBCwD@cABgF?cA@g@@oB@kDFcBFgAHgANkBToBFk@BIHi@Ju@PmAHo@Fa@@CBUD[RsABUHc@BODUVkBRyA\\\\{BT{An@mEZqBd@yCNaAX{An@cD\\\\wAn@}Br@sB`@kA^{@x@_BlAwBlAgBX_@\\\\c@z@cAfAgALMLMdAy@`Aq@h@]bAi@TMpAi@h@Qx@UlA[pAWd@GdAGPAXApAEL?x@@V?B@P?Z@D?\\\\@B?b@@f@?vCA@?j@CzAITAt@K^EdAU\\\\GLEvAc@b@S\\\\KVMbB}@|A{@z@s@`@a@~@{@n@q@j@o@tAiBNUf@{@`AcB|@oB`@_AJWPe@l@_BL[jAuCnAsDBEDMDKVq@?Az@{BbAsChByE`AoCnAwDNg@h@kBT_AH[j@cCDQRaAZyAz@gEZ}Al@wC`AeFVoAJe@P}@b@cCFYBMJe@r@aD~@_FfAqFt@sDv@_E^iBXyABIDWBKdAkFl@{C`@kB|AaITkAdHa^v@cEhBkJDYVmALs@Jg@`@sBBIDUBS@CFc@F[^qBD[F[PoAHq@`@cDXqCTiCFw@Dq@P_DB_@P}E@q@D_DBwA?u@AsCCkESmI?YGyBGiBEqBA]GkCAYAWCw@Ay@KiDIiDAOQmGAO?QAKGyBIsCAe@Ae@AQAWAYA]Ac@AUE}AM{DAi@UoJA[Cw@?QKuDAm@GqBEyAIwCCcAEsBOiEAKCq@GiCCo@AI?SIkDCe@GcCC}@CkBEaBAeAAiA?Q?Q?yB?qB?ID_CFqCFqB?KFeB@W@U^_FTeDBS^uDZuBPgA^wBf@_CTaAn@eCXgA^k@PYN_@DML_@N]@CVg@Nc@Vm@BC^{@NY`@_ATm@@Az@kCTeANo@^sADS^sAp@kBJWJUd@wAVw@HSHU@Cl@wAPe@Ta@`@u@\\\\g@Va@PW^u@N_@@An@aBlAoDz@cCd@kAjA{CFQr@aCf@uANq@DM^eBJ[Rs@Ne@r@cCXyAPq@TeAZ}@JWr@qBHWfA{CLk@Z_AvAsEBG`AgDn@{Bl@sBl@_CV}@t@yCJ_@Le@Ty@VaBJy@Ha@DUFWNw@h@yCDYTkAHy@Bu@Ls@DSh@iD?Cl@qE@IHi@BSNgAJs@V}BFg@D_@BS?AJu@DQNyAZeDn@qGjAyLjD}]~AgPbAiKp@{FNiAHo@Ho@@QDYDU@MBY@IPoAL_ABW@EJo@jA_IVaBF_@TuA@EBODQL{@Jm@fAoGfAoGLu@^gBd@qB|@aEd@sBhBmILe@BMFWHa@J_@@C@G?AHWBOH[lCmK\\\\qALg@FUFWBIFSFWV}@BKFS\\\\oADQFSdAeEt@uCxKsb@xKub@pDoNtEqQfAgEvAwFpIm\\\\xAwFpDoNjBgH`@cBxAwFtBeINg@Lk@@CFUDMf@sB~@wDd@iBH]BGx@gDZqAPo@jAwGJm@@CXgBHk@f@{C@E`@mDP{Ap@qGJ{@^wHFkA`@sI?C?E@U@YBiE?eE@g@A_@CgECyACaB?_@AQ?A?C?SAQCgAQiEImAA]M_CUsDa@wG[_FAMC]Es@Em@WcEEk@AICk@G}@AEG}@W_Dc@cF?K?A?SCUAMCo@UqDQ}C?A_AkN]iFa@wFC]A]Gu@Gw@Ew@OoBGw@MoBGw@MmBUgDOoBe@wGUgDMmBGw@MoBOoBGw@Ew@Gq@AQ?CAK?KEc@K{AOmB?CIs@Gq@CYC[?MCUE_AO}EKkDAUA[[iFAG?EC]?G?E?AAO?G?C?A?AAA?O?]?EAQ?AAe@CcCCw@Ay@Aw@Ay@Aw@EeC?M?I?C?I?WA[?C?S?G@]?}@?_@?]?W?{A?qBHuHLqE@m@@U@s@F_BD{@@g@^{I?GT}EJ{BXsFDaADu@?C@Q?I?A?C?E@??GFmB`@qIn@aN?ABs@D_A@QFoABm@HmBXiFBk@Ds@@WF{ABy@RwEDy@Ba@Z{IVsHX_KNmFDsB@S?QFoJD{BDeCD}A@sADuB@_B?ODkDBaA?K?K?k@@qC@iA?g@ByE?I?g@?{@B{D?_@@qF?G?K@g@?S?Y?cA?C@Y?Q@m@?m@BcB?K@cB?O@y@HoFFcC@k@JyCF_AHcBJcBZeER{BJiAX}BJcAPsA@MDSLy@Fa@F_@Ha@Fa@BIBOBOHc@Hk@DYRcA@EF]Hi@j@kCJi@|@}DXeAPu@l@aCDOPq@nCiKl@}BXgAd@aBxAuFfAeENi@@EJ]Ja@XiABI@EDM`@}A^sAPq@t@sC?APm@|ByIXcArAcF~CsLPo@FSHYFUBIz@eDj@wB`AuDv@yCjBiHlCkK~@mDl@wBxBiI|@cDb@_BFUBKDQZeAp@kC\\\\sANo@Ps@x@_D@EDM@EBI?EFQBMDO@EXgABG@E@ET}@b@cBPo@b@aB~@kDx@}CTaAPq@pHmZVcA?Cv@yDN{@Nw@@GDSD]@A`@aCp@{DTmAh@wD\\\\gDb@mEd@qEBOXqCBa@BOBOHq@?EHu@Jw@RkBf@{E\\\\cD\\\\cDd@{ELeAFg@H}@Hm@\\\\eDf@yE^cDRmBRmBFo@J{@h@{E\\\\cDf@yE^cDViCNqARmBRkBRmB\\\\eD~@}IFk@ZyCV}BzBiT~@uIHu@Hu@D_@Fg@Hu@Bg@NmCLcCD_ALqBBu@Dw@By@VgG@[@YFkABgB?GHkF@[?Q?K?I?S@mA?wJQqHOkGQaEO_DEy@GuACY?COkBa@iFKiAMoAs@{GIs@QwAEUIo@Im@wAeJoAyGOs@cAgE?CEOIYACIYCKmBuHGWCI{BkII[q@mCuBgIg@kB{@cDcD_MyAqFMe@EOGUyBuIgCwJc@aBWaAa@_BGUu@qCMi@GUu@qCEOeA{DoA}EIa@Ok@Ok@eB{GGSEMgAeE?AEQEQS_AQs@Oq@ESs@iDEYI_@YeBMw@O}@UaBIi@OaAYwBACCWAKAIACE]Ku@WkBaAcHa@yCuAkKe@uDQoACQAIAG?AAGCMAOKu@Ku@o@uEc@aDaCqQc@aDcCoQ]mCoBoN_@oCCK?CAEAGAIAMe@_DUwAaBaMa@aDU}AIq@EW?ECSACCQAOAE[aCqA{JAMGg@c@oDOsAOuAEa@Gi@AMIy@MaBQuBG{@Ca@IyAIiAEaAIaBGoBGqBEeBCoACkAAeBAU?G?C?E?M?eF?uA?oC?w@AcF?u@?W?U?I@i@?S?G?K?C?Q?K?O?M?I@G?A?[?C?Q?C?G?EBeA?QDiD@kABsABiC?EDcCDwADeABw@DaABi@B]F_AHsADm@HqAR{BJcA?CNqAN{ATgBPgAV{AHk@BKBMFe@PaA\\\\iBJm@jAiGbCmMvCkOl@{CjAaGLs@Ns@f@iCF]DUvAmHzA_I@CrDiR`@uBtAiH|AcI~@}E~BuLh@oCZcBLw@BK\\\\mBd@{C\\\\cCVsBXsC@EVoCJk@D]Ba@NuBN}BHgBJgCHaCJwDFgE@aE?oBAkBEmDAa@?A?MKiDOcFEqBOaFKiDEqBS{GASGuCaA}^c@cPCmAC_BAgA?IA_@?u@AeA?uA@uA?aA@i@?y@@s@HyD@IZqKBi@JwCNaCP_DXoDR_C`@iEDa@f@aE|@uGrAcJhBoLl@uD@MBK`@eClBwLbAiG`AgGd@sCD[Ha@nA}HF]Ji@n@_E?ANy@z@mFn@qDr@gEZuBlA_Ir@sEvAiJ\\\\uBb@uCDSL{@BKDWFYBM@KDQn@_E@IxAiJ|CqRN_AzAqJp@aED[PaAToATkA`@sB`@iBR_AFS^{A\\\\uAZgA\\\\iABKDOFQd@}Av@yB`AqCVk@vAgD~AiDf@gAFKTa@Xi@Zm@FIFM`@s@LQDKJOHQDGNU^m@HKr@mAhBwCt@mA~CgFXc@R_@nBcDh@}@JSBC@CR[z@wAlAoBFKRYR]|HoMDI^m@f@{@`@o@?AzBuDlF{Ip@gA~AkCR[fAkBnD_G\\\\k@DGBCBEDE@ABC@CDI?ABE@Cp@oAb@}@DKz@eBXw@To@FMr@yBn@{BNi@BId@cCr@yD@IJsAl@{DRmAHm@\\\\gCPuADa@R}CHmA?I@cBB{B@cEC{AAk@GkBI{AIsASaDIgAIgAK_BKyA[_FCU[eF]qGk@oIMoBKeBSqDC]W}DIy@I{@Iq@W}BGe@Ge@WaB[eBYyAKg@WmAsAoGgA_FIa@Ic@c@oBu@wDaAyEIe@kBoI}AmHwAkGiAaFKi@mAwFwAyGMc@Oq@Oo@Ok@cBsFwA{Ey@kCkAaEa@qAoByG{AqFcAiD_AsCc@yASm@mAgEu@kCSq@iAyDYaAu@cCw@eCCGaBmFM_@I[cAoDOi@c@kBWgAYmAWcAy@yDWsAYeBCQYsAOs@CKYyACOi@uBEQa@wACGg@}A_@iAISWw@Qc@?A[a@GKu@{AWg@?AWi@Sc@CGGOOY_@}@e@cAWk@Ui@Ui@AAwAyCIMo@uAMWGQm@sAAAgA_CWk@Wi@EKMYISg@gAEIe@mA]{@M_@Um@Sm@Ww@Og@c@{AACMs@Os@Os@EWIYAEGW?EI_@G]Kc@Y}AGYIg@GYGg@UcBc@qDa@cEIgAUkDg@{FU}DCm@[cFE_A?MEwBGeD?aB?iAAe@?S@g@@wANaE@WLqCDw@@QDe@Hu@J_ABKb@sD@O\\\\oCDULo@DY@CBM@MDK?C@EBI?CBGBM@GF[Lg@BMDSHYDUHa@z@uDVgA`AiER{@b@sBViAJe@@IP{@^eCDYb@{CZqC^gEBWFkAHkAF}ADaADcB?C?wB?sAEiC?G?AA]?O?YA_@?UAO?K?YAW?G?GAo@Cs@?AGcD?OGcDCu@GwCMgH?IK_EWqLUsKE}A?]AG?[IoDIqEOcDAAO}C?GQeBCQYgCaA}FYgAgAiEqA{DqAyCmA_CsAuBMSwAmB{@{@IMGGKKMKECGECC[We@_@i@_@GEs@e@m@_@aAk@o@[?Cu@SuCe@CAcDc@]EsFm@wBWKAg@G}CYC?oCWG?KAGCG?CAG?A?EAC?y@IiBQi@EeBQ[EGAmAKWEKAGAYEaAKi@Gm@GcAKUCKAI?CAu@Ge@GQCG?kAOWAG?GCA?E?UEMAMAGAC?IAcAIC?[CWCQAWEIAo@Mc@Io@OKE{@WoA]GCGEKEUIWMa@Qk@[w@a@k@a@y@m@o@i@s@o@s@u@i@m@o@u@[a@OQsAgBsAkBsAiBuAiBsAiB{AsB{AqBuAgB[c@mA_BwAqBKMeB}BeB}Bs@}@u@y@w@w@u@s@e@a@SQu@m@mBsAiBmAMIyA_AqAw@qAy@}AcAs@c@u@i@i@_@g@a@g@c@g@i@g@i@c@i@W]QU]m@MUWa@[m@Yi@[o@GMM[Yk@GKSi@]w@iAiCiAiCa@cA_@cAYy@[cAUy@K[GSQu@GYKc@UgAKm@ESQcACQa@kCe@_DSoAUwAQiAUeAQ{@S{@ACSw@Ok@EMWy@IUOa@q@aBAC[u@Q]KQa@w@]m@[e@CE]e@c@m@a@i@cAkAMOeEwE_AeAACw@_AY[_@e@[a@gBuBMOsBeCaAkAeAsA_@c@[c@[c@Wa@Ua@Wc@Yk@Wi@[w@_@aASq@_@eA_@mA_@yAS}@SaAWqAOo@e@aCg@_CQaASkAQ}@Mo@Oq@Oq@Qm@Qm@ACSg@Oe@Qe@Oa@Uy@e@}Am@mCMg@Mg@oAeGc@wBm@yCi@eCBA'}, 'start_location': {'lat': 50.10652899999999, 'lng': 8.6621618}, 'transit_details': {'arrival_stop': {'location': {'lat': 50.972551, 'lng': 11.038499}, 'name': 'Erfurt Central Station'}, 'arrival_time': {'text': '1:38\\u202fPM', 'time_zone': 'Europe/Berlin', 'value': 1687088280}, 'departure_stop': {'location': {'lat': 50.10652899999999, 'lng': 8.6621618}, 'name': 'Frankfurt (Main) Hauptbahnhof'}, 'departure_time': {'text': '11:19\\u202fAM', 'time_zone': 'Europe/Berlin', 'value': 1687079940}, 'headsign': 'Dresden Hbf', 'line': {'agencies': [{'name': 'DB Fernverkehr AG', 'url': 'https://www.bahn.de/'}], 'color': '#f01414', 'short_name': 'ICE1559', 'text_color': '#ffffff', 'vehicle': {'icon': '//maps.gstatic.com/mapfiles/transit/iw2/6/rail2.png', 'local_icon': '//maps.gstatic.com/mapfiles/transit/iw2/6/de-db-ice-high-speed-trains.png', 'name': 'High speed train', 'type': 'HIGH_SPEED_TRAIN'}}, 'num_stops': 5}, 'travel_mode': 'TRANSIT'}, {'distance': {'text': '256 km', 'value': 256480}, 'duration': {'text': '1 hour 42 mins', 'value': 6120}, 'end_location': {'lat': 52.5250839, 'lng': 13.369402}, 'html_instructions': 'High speed train towards Berlin Hbf', 'polyline': {'points': 'mqbvHs}jbAc@Ze@aCi@kCQcAOaAM_AEc@E[MgAK_AGs@KwAGo@A?I}@Eo@E_AEaAAg@ASGiCG_CCaACgAEiEEqAGyAQcCGeAMwBY_FGy@M}BUgDI{AQqCCc@_A_OCi@CyAAe@Ei@Ew@C_@C_@Ca@Gu@E_AEgBAYAQCq@Am@Ai@Ck@Cu@?GCkAEeACqAAIAm@A_@Ci@I_B?GEo@Gw@Ew@K{AEw@AKAKCYMmBCe@Gu@?AKaBAKMsBKyAO_CImASuCW_EMeBQoCKcB_@iFScDIgAU{BUsBGq@YgBa@eCCIGQMa@U{@Mg@I]Oq@Kg@W_AQo@K[EOQi@EQIWCIIWSu@_@qAWw@a@wAg@gBEOMa@]oAKe@WiA_@kBg@_Cc@mBg@cCg@oCi@_D_AmFk@gDYaBgBeKaBkJMw@uA{H_@wBWwAi@}C[gBUwAw@mEeAkFyB_MQcAi@{CMs@]iBy@oEi@}Cg@mCmC_OiCoNk@yCKe@Os@UcAu@{CIYk@wB]kASo@?CSk@Wy@a@mAa@iAo@_By@uBiAgCmAeCmA}BsA{By@qAYc@[c@[e@_@g@s@aA]a@m@w@Y]}@eAMOMO{@_A]]e@g@{@{@mAiAg@c@e@c@{AuAw@q@]Y_Aw@[UuAgAm@e@i@a@wAgA}@q@]WeIwFaCcBaCcBcJoGaAq@sA_Ak@c@a@Y_BmAUQiA{@_As@_Au@}@s@iCuBsB_BoAaAoB}Am@e@_DaCQO{CaCCA}@u@}BgBaBqAeBwAw@o@mC{BoAaAyBiBcAy@cCoByBaBaD_C_As@_CeB_@Ys@i@_Au@_DkCyCgCi@c@iEiDgEiD_BqAA?aEiD{CoCuBkBc@c@w@s@oBiBKK{AyAyAyA}@}@sAwA}@}@q@s@yA_BwA_Be@g@UWcDuDMMcD}Dg@m@iB{BaAoAiAwAaBwB}@iAkBgCaAsAgBcCgA{AKOcDwEw@mAu@iAaAwAKQu@kAiBuCMU{AcCi@{@IQu@mAaAaB_AaBoAyBoA{BaByC{@}AmCeFEGyC{F{AuCq@qAGKuB_E_@u@eCwEIOqB{D}@cBkA{BsCuFkAyBq@qAWi@AAiAwBYi@Wg@Yg@q@sAq@oAq@qA}CeGaC{EwBoEqAsCe@aAy@iBqAwCc@_Am@wA_AyB[s@m@wAm@yAO]cAaCGOUk@yAsDM]]{@mB_FuB{FgB_Fa@mAiAaD}B_Ho@qBmAyD_AwCc@{AuAoE_@oAwA}EsBqHcBkGyAuFMc@a@cBQq@Sw@o@qCQq@Oq@Ok@c@kBOs@a@cBUeAiB_IcBaImAeGQ{@Ki@{@oESeAIa@_A_FYwAk@}CEMoA_HyAwHQ}@kAcGY_BUiA}AiIwAwHwAwHkAeGg@iCa@wBIe@Ms@m@{CCQIa@Os@]gB]gBE[UkA]gBOs@Y}A}AeIsAgHSaAeAwFQ_AYyAq@iD[eB_@kBMs@[cBuAkHyAwHa@yBOs@Ms@Os@Ic@COOs@Ms@]gBMs@Mk@AG{@oE[}AQ}@eAcFqAkGmA}FqA}FaAgEUcA[sAuAaGOk@cAiEWgAk@aCa@cBYmAGWaBeH{AsGm@iCe@sB]uAa@cBUaAm@gCw@gD}@yDk@_CWiAqAsFAGeBoHAEq@qCw@kD[oAq@wCYkAy@oDYiA{@qDWeA}@uDOs@K]gB{HkB}Hk@cC}@yDiB}HiB{H{AqGg@uBQs@YoAsA{FcBiHYmAq@wC]wAw@cDa@cBMk@c@kBcAiEUcAQq@_@eBa@cBu@{CMm@iA{E}@wDUcAKa@y@kDsBsICKOs@Qq@Oq@Sw@Mm@Qq@Om@ACOq@GWIYa@eB_@aBAAOs@Oq@Qq@EQI_@GUI]Oq@o@yCWiAaAiEUcAmAiFyAkGcAgE]yAeAuEYkAo@oCK_@m@mCqAqFYqAw@cDm@iCi@}BeBoHgByHUaAmAgFyAmGQu@kAcFoAqFkA_Fg@qBeAuEcAmEa@cBcAiEKa@EQq@uCa@eBq@wCwAeGgCsKa@eBsA{FKe@{AgGc@eBeAeEWcA]qAcA}Dy@{CEMuCoKo@}BSo@Ok@{B{HyA_FeAmDaA_Da@qAqBoGaBgF{AoEeBkF}@kC_@gAiBoF{AkEkAkDKYi@}Ae@sAEO[}@EOUm@{@eCuAcEoAqDqAyDi@}A]cAmF}OCGoDeL{@oCWw@wFiREScAoDw@qCu@kCUw@Qq@yAsFAAu@uCq@gCqBcI_A}DwB_JMg@S}@a@cB}@_ES_AqCkMUmA_@eB_@gBG[UiA_@gBg@eCc@}BYqACU]gBMs@k@}CMs@c@_Cc@gC]gBMu@Mq@Kg@WwAQgACKk@{CgAeGk@}CKg@Q_AESWsAm@kDMq@yBqLcBqJYyAi@}C]gBMu@_@wBKc@Mu@Ms@k@{C[iB]gB[gBwA}He@iC{BeMqAkH[aBO{@gAeG]gBKm@]oBwAyHUoAE[Os@s@_EAEqAoHm@aDiA_GaAqEcA}EuBeJmB_IEK_C_JOk@mB{GeByF_A_D}CmJaCcHoAiDm@eB}@}BiBuE[w@wAmDq@{AyAkDYm@sAyCy@gB}B{EmBwDa@w@iC_FmE{HeAcBy@sAgAiB]g@u@iAqAoBu@gAAA_FyG{@eAoCkDsBgCcd@eo@[c@iCuDup@o_Aau@eeAs~@wqA[c@sUm\\\\[c@q}@kpAaAwC_AgDEOcDmLAAiByGgBkGOe@wAeFeBkGcBcGwB_Iy@{CW_AW}@c@_BSo@c@aB]kAGUSo@iAcESq@Oi@mIgW{IcXcLo]gByEwBwE}BiDACcDqCg^iZmf@ma@_@[me@q`@ob@a^_@[ir@yk@qj@ee@wBgBiBkByD}DuGsHyCqDyBmCs@}@oCiDgAsAaC}CuAiBgAwAi@s@_C_DkEkGmC}DiBqCoBwCeCuDmBuCsAsBm@}@oCeEeBkCGKqAoBk@}@IMmBwCS[a@o@Ye@[c@Ye@AAoAqBWc@KOi@}@s@mACEkAmBe@y@g@}@Yg@Yk@Wc@Yg@Yg@[g@Yg@EIS[Wg@Yg@k@cAGKYg@Yg@Yg@GMQYs@oAKQMUYg@q@oAYi@MSKSYg@q@qAEESa@Yi@Wg@Yi@Q_@EGYi@Wi@q@qAAAWg@Wi@Yg@Wi@We@ACWi@Wi@Wi@q@qAo@uAYi@Wi@?AWi@Wi@Wi@Wi@Wi@Yk@Sc@CEWi@o@uAWk@Wi@Wk@Wi@EMo@{@[a@]c@[c@[a@[c@[c@]a@]w@Wi@Wk@Wi@o@sA?AWi@Wk@Wi@Wk@Wi@KQKWiA_CGO}@qBs@_BSa@m@wAUm@Uk@Um@Um@GMO]Uk@Sg@AEWk@Uk@GMO]Um@Qa@CIUm@Uk@Wm@EMM_@a@eA_@cAUm@Sm@ISKYi@{ACIg@qAUo@aAmCEO_AkCa@oAuPao@Qq@_GuTuB_ImDwMwHiYyMig@gCiIEKgBmFmAkDCI{AiEsAuDgAwCmBqFkCkHEOcBwEm@cBYw@mAiD{BiGEOkCqHSg@sAyDSg@wA_EKYGS_CqGeCeHcC}GqC{HuCgIc@mA]aAEMc@mA{BiGsAwD}BsG}@eCgAyCaAoCwB_GaC{GaD}IeCkHs@sB{AyE}BkHi@gBuAsEqBkH_AkDo@aCyAyFWeAa@cBQs@Ka@e@uBQq@Oo@q@{Co@yC]{A{B{K{BoLeAiG_AsFsAwIi@gDgA{HYkBwAyJE_@_B_LU{AgAyH[uBcAkHQmAoAsIm@gEWkBKu@Ko@?CKq@SuAAI{@eG[uBm@mEs@aFYoBiA_IkAeIE[_AsGa@oCQyASuAKu@m@gEQgAMcAQmAQcAWkBEYa@gCUaBSqAGa@[iBo@}DSoAMq@m@iDqAmHm@aDScAeAuFMk@gAqFs@mDa@mBi@cCiAaFOq@wAiGeBcHKe@qA_FcBsGmAmEK]Mk@o@{BOk@i@eBe@_BaBkFuAkEOg@o@mBkAoDoAsDm@aB_BsEiCcHWq@mBcFeCoG_@}@KYeBoEqCcHqCiHaBcEo@aBeAkCoCgHsCiHy@uBy@uBiCwGsBiF]}@}AaE{BuFQi@gAoCcCkGi@sAcBkEuCmHiByEO_@oAcDuCoHeCmGk@yAgBsE}B}FmA_DkAyCsAiDy@wBuAkDwAsDeBmEcBkEcBoE_BkEu@sBm@cBsAyDoAuDaBaFu@}Bs@{Bm@oBw@iCuAwEYaA}@_DyAoFcAuDw@wCu@yCQs@c@cBQq@AEq@qCOq@ACq@oCACOq@a@eB[uAwAmGcAmEUcAgB}HkA_Fs@{Co@mCSw@[mA}@kDQs@aBcGgBiGiBgGc@uA_AuCy@gC]cA_@iAsAyDEKoAmDCEg@uAq@gBgAsCe@mAg@mAq@cBaB{D}AoDy@kBO]c@_AuCgGg@eAcAsBcCwEa@y@aDaGmAyB_@q@}@cBeB_DMWoA{BiAuBYi@S[iAwBiAsBqCgFyB}DKUsAcCkBiDGMmC_Fw@uAYi@sBwD}@aBOYcB{C}AuCyAmCsAcCkAwBs@sAYg@AA_AeBKQk@gA{@}AWc@Yg@Yi@m@iA]m@KOUe@cAkBAAaByCaAkBqAaC_AcB_AiBgBgD}A_DoAmCu@_Bw@eBo@{AoAyCq@_Bm@}Aq@cBw@yBk@{Am@eBo@mBEKw@cC{@mCy@oCw@qCw@uCu@sCu@wCq@wCq@wCq@yCk@uCk@sCc@}Be@iCe@mCe@qC[qBG_@e@aDc@{Cc@aDQmAOoAa@aDKu@a@cDiAyJa@cDu@qGa@eDk@{EAGGm@Kw@Iu@Kw@E]CWk@wEo@qFQ{AUmBGi@AKIw@Ku@Iw@_@cDyBsRQwAKw@Iu@Iw@UkBKw@UoBWyBm@qFi@oF[iDKoAe@uF_@wF_@wF_@{Fc@uGi@eHe@}FEe@QyBQ}BOyBCi@IsAK{BK_CI}BK}BS{FKyBM}BMkBAMQ{BUyBCQUeB[uB]uBa@sBc@oBEQ[oAe@cBGQa@uAm@eBo@aBq@aBg@gAA?g@eAi@aAk@_Ay@qA{@qA}@mAaAkA_AeAcAeAcA_AcA{@gAy@gAu@eAq@kAm@iAi@kAe@iAc@iA[kAYoASUCo@IgAKs@Cs@Ci@Ai@?{@?Y?c@@uBFS@s@BgADO?w@Bu@BaDDK@qB@kC@cA@}@@kC@iB@wAAI?aBAA?sBEoBCUAcACkACyBEcBCaBCiBCgBE_BCkBC{ACa@?wACU?yAEu@Ag@AoBC[AgAAkEIK?g@Ag@C_AAs@AyNWuFM}AMUAiAMoA[y@WMGu@[m@[KGg@UOM_@Ya@Yk@i@OOA?WQEGIMOQ}@eAOSKMY[CCeCeDGIa@k@WYy@_AyBmBmBqA{Au@sBs@eB]g@EYEe@Em@CiDEeDGeCEwAE{AEiBEsAC]AaCGeBG_HW_IYg@CiCOqBIsJe@iFUqBKiBE{@?Q?s@Bi@Dg@BO@_ADk@Du@Nu@R[L[Ls@^k@^_@Z_@\\\\k@p@C@cArAiAvAABu@~@ABc@b@STOP[b@_AtAk@l@k@fAKJ[^UTIFQNaAp@g@`@y@p@OJ_@Vo@`@gBdA[PuAjAy@p@_BpA}ArAYV{ApAe@^s@j@]N[PEBOHQHIFgAZs@P}@N}ABoAHc@DgEVuADsALG?u@D_AFeBLs@Di@@y@@u@As@G{@MqA_@w@[_@Sy@i@]Wi@g@OOe@e@_AiAe@m@y@cAyAkBgB{B_BsBgAaBU[_@o@m@gAg@eAMYKWm@sAw@gBYq@a@}@[s@EMEImBkEy@iBa@aAMYWk@_@{@Wk@[k@_@s@Yo@Ug@IOGMUe@]s@c@w@[g@O]a@y@[q@Yq@?Ae@_A[q@k@oAKSACUe@Sc@CGEIk@mAa@{@Yo@_@w@AEYm@]u@_@w@]s@[q@]w@q@wAYk@Ym@Yo@]q@Wm@[s@Yk@Wo@[s@Ys@Uk@Wo@Mc@[w@Ss@Uu@Sm@Me@Uy@WcAUcA[uAWoAUuAW{ASyAYiCQeBIgAIcAI{AEiAG{AEgACiAA_B?kA?oA@gA?_ABiADeABaABg@Bg@H{AHqA@EHkAN}ANyANoAB[Hu@Fi@Hq@LmADe@Fe@LoAJmAHiA@ODq@@SBWFy@?SLuCFmB?M?a@@k@?c@?_@@[?U?IAK?K@q@?YAM?gCAmB?UK_ECuAIsACg@?GE_AGkACUEs@I{@Ec@OoBMyAE]E]SmBUmBIw@s@sGs@uGKeA[uCiAcK]eDMkAKw@CUMwAi@{E_@eDGm@UwB_@eDIk@Ee@CUAEAOGe@?AIq@i@cF]eD]eDCSg@gEk@{EIu@Iw@?AIm@QoBE]Iy@C]W_COuAOgA{@cIsAuLOmAIu@OsACe@Ce@E]mDk\\\\gAgKMeAGq@wAkMoGyk@c@eEm@uFkAmKuCsXw@gHw@yHSmBQ{Aw@gHW_CiBoPOuAy@qH?AQuAa@}D]eDeAcKm@}F?AgCmUgAcK}@kIAGKk@a@sDq@gGeBwOk@mFqCgWMiAu@qFm@eE[uBQgAm@sDi@uCy@gEgAsFiCkL{@{DmCgLa@eBa@eBCMKc@AE]_Ba@gBq@yCyGgZkAgFUiAsAkFWcAkAoEmB}GeCwIAIeCkIe@_BaBsFy@qCy@sCEKCMy@qCoAiEGQCKgAwDw@qCEKw@uCk@yBQq@Ma@So@Sq@EOyDwMgAyDUy@g@aByCgKSu@_BmFQo@AE]mAsAoEMa@y@qCiBmGEQIWy@sCs@}BYaA[cAuBwHsBeHoB_H{B}HeAiDy@sCeC}IiA{DeB}FgAyD_BqF_BwFSo@a@yAcEoN_BsFSm@_A}Cu@iCkJa\\\\eAqDeKc^gBmGIWiA_EiCyIaEeNcEeN]iAsA}EYeAa@_BwA}EGUIS]kAkAaEQo@?AmAaEc@yAq@mC[_AmAaEkCqIUs@oEuOSo@w@sCo@aCo@sBQq@]iAeAeDUu@Ok@Sq@oBeHwAaFiDoLI[eCwIAGqD{La@sAkCiJK]{CeKQq@yAmFaDoKmB{Gi@gB_CiI}@aDQq@w@sCMe@CKe@aBe@aBi@mBMe@Kc@GOK_@Sq@So@So@e@aBg@_BSq@I[cD_LcD{LoA{EqBaGc@iAoDwLCGw@uC_@sAEMSo@e@aBOg@Oi@}@mCs@uBq@iBCIg@sA_@_A}@}BWg@MUu@_Bw@}Ag@gAq@kAeAgBeAeBCEm@_Aq@eA{@mAwAoBkAyAs@{@U[g@k@qA{AaAiAqA_BeAkAgAuAOUuA_BgByBmAwAgAmAyAaBW[u@aA_BgBUSqFwGqBcCk@o@iCcDoB{Bm@s@}DqEKMGGGGqAwAe@i@cAoA}BmCaCoCc@e@iCyC}@eAgBwBaE_Fs@o@CCqB_Ce@k@kB{BaCsC_DuD_DsDsA{Aa@i@]a@MOm@w@m@q@KMwAaB}BgCiA{AaBiBqI_IuAqAq@i@{@u@sBmBuGgGm@i@ySaSsGiG}CuCaB_AiAw@cB_AyBgAqBgA{B_AkBm@mBw@zCZgBs@qBi@eAWGAwEq@k@EsBW}@MoBUsAOu@KuEk@_IcAkL{AmC]gAOkB_@aBYjF`@`@DgASs@MUEgCWgEk@mAQiDe@c@Gu@KiFm@eAM{G{@o@GkBSa@Ea@EcBQw@K_Dc@kImAqB]gHkAyGoAgEiAeAYoE_BCAmFuCwAiA_EaDOM_FkF_AcAqBaCOSQQkAyAyBcDgA_BeA_BmC{EyCqFMSoCgH_BcEgAuDy@qCy@qCK_@K]a@uAMc@[gA]gAY_A_@sAa@sAoAsE[gAIYe@aBy@sCI[o@sB{@qCK][aAg@{AWu@Ui@Um@m@yAKYsAqCKSe@}@uAiCoB_DMQaCgDcBmBwAaB}BqBSQKI}AqA{@u@CAaBgAaAo@kDcBcBo@y@[_H_CuBw@_DeAsAe@{Bq@wC_A}Bu@m@SuBy@_Ac@y@YWIa@Ms@Us@]a@SMIeAm@eAs@KGECo@c@iAy@eAw@y@o@_A}@i@g@QUY_@_@a@Y]}@gAKKm@{@c@o@oAmBS[o@eAaAsBMSaAiBw@gBmAqCe@kAgAqCcBcF?AoAiEMi@cAeEkAiGAAw@sFy@qHOwAIoAa@_GA[WeGMgEEgBK{HAoFEuI?g@AgFAWGuGUmI_@{HWmEQgBOeBi@iFKmAeAqHm@iDeA}F_AoEqAcF_AiDSq@{@qCAEy@iCIUIWk@{AKWISmAwCmAcCKSsAmCoAcCKOuAwBaC_EmAsBy@wAsBqDsCoEeBwCc@u@{BuDsEwHmDaGuBkDoKkQaBoCyA}BiB}CIOoIiNoEqH_@k@KQs@oAcAeBq@kAm@gAgCiEa@o@s@kAuA_CS_@wC{EYa@U]cAeB}AmCc@s@eCaE_@q@cBsC_BmCsAqBcB{CKOyCwEsFiJw@sAyDoGeHmL_A}A}AoCmBgDS[gBiDs@qAWa@iAmB}@yAWc@yDmGoFcJyCcF]m@cAcBeAaBk@}@y@wA{CaF_@o@oE}HwEmIS[qAuBcGqJmCmEwC_FGImAoBkBaDEGk@_AoB_Ds@mA_AyAYe@GIUe@_A}AOUiB}CIMk@}@}@yAIMKMiA{BACGKGMqAwBEIq@gAYc@aAcB}BuDYe@sBiDsBaDyCeFu@kA}AiCEI_@k@e@u@g@{@{BwDu@mAYc@mA{BYg@GKcBkCMSg@y@}B{DuFgJg@y@SY}@{AkCmEu@mA]m@eCeEKSoB}CGKEIEIm@aAyAeCoB{Cg@y@kFcJ{@yAuDaGeCaEuD{GoCyEqA}BkAmBeDyFk@aAyDqGe@w@OUcAcBe@y@Ye@eAeBIO[e@Yg@Ye@Ua@kCeEs@oAyAeCi@}@[e@oAuBMS_CuD[e@sDsGgCeEqAqBmAqBiDaGoCmE_@o@sBeD}D{G_EwGeAkBk@_As@mACE{@sAIMWa@ACU_@gAkBEIoAuBmAuBqAuBoAuBkAsBAAwAaCaBoCACcC}DiAmBkCiEeBuC_A_B{AcC}@yAcBuCoBcDo@gA}C{EwAeCu@oAoAsBs@qAwC}EoBiDQWqBmD]k@g@y@sGuK_IyMaCaEyDsGeHqL}CgFuDiGIOIMkAmBcCcEeCcEyDqGoAsBmFaJoAsBu@mAYg@u@mAYg@EG_@q@Ye@s@oAcCcE_DkF}HyM{CgFACuEuHuEwHw@oAgLmRiGcKsE}HyDuG_BoC{AaCq@kAkB}CqAwB{BaEa@s@MWw@qAu@oAs@mAGMcBmCq@iAw@qAkB{CmGgK{ByD{@sAeEaHsCyEyDqG[e@mAsB_DmFYg@_DiFkEoHgDuFyDoGaDkFGI{ByDiGgKyAeCaC_EgAgBeCcEeCaE}@yA{BwDsE{Hc@u@gHuLoCwE{AgCyBqDqEwHeHqLKQ{FyJoBgDsFeJyAsCg@aAuBmDYg@o@eA{CeFaDmFEIkB{CYg@y@uAo@eAsBkDkCuEcB}C[u@eBmD_CgFmAqCUk@oA_DaAcCMYeAcCm@wAAC}@aCQg@Qe@sAsDCEwCcIUm@g@sAeAsCk@{AQe@Qc@uAuDISsAqDCEcAeCEIiBsDg@{@k@cAc@o@g@u@[_@y@eA]_@e@g@sAsA]Yi@a@WSWU[Si@a@c@Ye@We@Uo@[m@Y_@MQGi@Qq@Ss@WsA]s@Qw@SuAYoA[mAY?A{@SIAy@UICOEyAa@oA[CAwA[u@QQEy@S_AUqAa@uAc@SI]O]QMEOIWMm@a@s@c@g@a@i@a@o@k@o@k@g@i@OO_@a@]]?Ae@e@QQa@e@EE_@k@c@i@KOc@m@}@sA_@i@KMQSe@o@e@q@{@kAq@eAGGsAoBOSg@q@[c@}@qAS]Q]GKSUIIQSsAwAQUmAwAKIyA}A_AcAqC{Cc@e@mFoFsCuCqAmA{@u@eCkCg@}@w@w@y@_Ae@i@s@aAi@s@o@aA_@q@MUKQQ[e@kAc@aAi@sA_@iAc@qA[}@Og@{@qDi@eC_@oBKi@e@_DO}@AEIs@Ik@QgBKoAKqAC_@K_BGqACc@Ai@C_@E}@EiAWeKAg@QmJCcBWcJEaAcAiUc@aLEmAi@gPGcCQ}Eg@uNCc@Cm@Ae@MyDOwGAQE}AGwBUqHIwBCcACk@]cIASUkGGqBEqAOyEMyDEwAMqDAWMmDEqAAe@A[Ck@KsBEw@IsAA_@MqBA[YaEI}@MqBEg@[{DC]e@mFAMg@_FEg@MgAYgCSeBWqB[wBWuBCOe@cDE[U{AKe@g@cDkAkG[iBWqAWkACK[{ACO[wAQs@GUI[e@kBGSGUIYQq@[iAe@eBSw@Me@Qi@IYY_AK[Kc@i@cBEKM_@oAyDCIyAgEgB{ECGcCgGAEqCmGqBiEWg@qAkCo@kAkCyEMQy@uAa@w@{AcCm@aAOUY_@ACYa@Ye@MQa@o@_AqAMQyAoBcAmAOS}AiBcAgA_@a@{AcBiAuASYKMOQm@q@ACaAiA_BoB[W}HaJw@aAo@y@eAkA]]GIUWu@y@EGCCq@w@i@m@kC{CEEu@y@]a@m@o@i@k@AA]c@QW_@c@]]GG]a@{@aAi@m@eCyCsB_CoBcCaAiA_@e@aCsCeAmAUYs@y@q@s@s@u@a@g@o@y@g@k@_@a@_@c@W[sA_Bo@s@q@s@W]g@o@u@y@_BgB_BiB{@eA[]_@c@_@]cCsCg@k@}F_HuBkCsFaGsA_BaBsBo@u@m@w@YYEE]_@CC}@mAo@y@gAwAmCcDwC}DeBmCQWsAgBi@u@U[sCgFiB{Cu@oA_@m@_@o@MUKQq@mAAAq@sAEGc@_A{@gB[q@m@oAqAwCSc@y@qB[w@{@wBs@kBgBiFSi@k@cBQg@Oc@q@sBeB_GAEi@oBGQoAyEwBqIsAsFg@uB_@uAESGSk@_CYiAsAoFaB{GaA}D{@cD_@{AWcAOi@Sy@Mg@a@aBk@uBEQMe@Mc@G[sAmG{@cDq@kC]uAUs@cA_E{@}Cg@aCk@eCYeASw@}@uDe@uBeAyDy@iCm@eCa@}AACcAcE}Hq[cB_HEQwCqLy@_Dm@mCa@yA]wACMc@iBc@cB_A{DAA[oAEQQs@WkACGAIAEAAQq@EQ[qAOs@AAOs@c@eBAIs@uCg@mBSy@c@gB}@oDMe@s@sC{AiGm@cCE[?Aa@eBACWcA[oAOq@YgA[oAOm@c@kB}@oDESI[Os@{@eDq@oCUy@Om@Mc@aAsEm@yCg@eCCOo@cDo@mDg@wCu@wEYoBSaBOiA]eDOsAa@sDg@_Fc@gEm@cG_@sDKcAWaCMgACWQoAuBwSy@cIw@eIkCgW}Fcl@SiBk@{Fa@yDe@{EGg@U_CGi@YoCIw@CQSsB?CIu@Ge@ASCME]Gs@Gk@MoAOwAUcCO}AGe@I{@K_AGq@I{@MkAAOIw@Iw@E[MsAIs@CWMkAEc@AQKeAEWGm@]qDKeAMoAI{@QeBGg@O}A?ASqBeAaK?CoCcXgAyKMkAs@gHc@mEIu@]mDO}AUcCA?U_CYuCc@eE[{CaAwJGk@{B{TaBsPc@iEs@oH_@aEYiCQcBMuAc@mEK{@[}CIm@C[Gs@Gq@[yCW_CGi@E[Iw@c@sEe@yEa@yE_@kEc@mFO}BOuBYqEU}DOaCYwEc@eH_@uG]wFY}EUqDe@cI[sGo@{KOiCu@oM}@qPCi@sBu]oAeV{AiUi@qGw@wMEg@KqBGy@Ey@Ew@C_@CYAO?KC]AI?II}AGy@AYIwASiDWaEg@oIe@qIk@wIQeDMsBWkEGiAWoD[}Fa@mGEs@UkDKqBAIEo@CWC]MsBUmDE{@YyECc@A[OyBSsDAMIsAWkDEi@CMAKM}A_AwJmAsKo@oESqA[kBEYG[O{@Ko@GY?AEUG[AAAO[{ACQIa@Qu@UiAiB{IuAmFkBcHCKCE_BiFk@eBiBgFk@aBm@{AyAqDWo@g@iAkBaEkBoDgGmKwBqDoBaDmKcQy@uAeGcKs@kAU_@yJmPgBqCy@sA{DqGc@s@aBmCaAaBi@{@yBuDIK?AIKEKsBmDaCeEgCkEWa@Wc@sAwBgBwCIMGMuBkDACqBaDMQGKCGO[oAsBkB}Cw@qAWa@_EgGiEuGcAiBm@gAaGiKiB}CiB{CGKqDiGyEcIU]aDcFaCuDEGsDqFcDuDSWwCaDsB{B_B_B{B{B][}@y@i@e@mB_BEEs@k@YSMKECACKGGEGGsA{@GEYQiDmBeD}A{@c@wFcBaFwAMCOE_LwCkCq@sA_@uI{Bw@SUG}EqAICsBi@qHmBkCq@sEkA{EmAyK_D{C{@_AW{@UeA[YIk@OOEYIa@KgAWkAYoA[_Dy@cBc@OEOEeAYgMiD_Bc@sAc@_HiCuHeDsC}AmBeAqFoDkDkCkCoB_Au@s@q@aB{Au@s@}DqDc@a@yDgEo@w@o@y@e@m@sBkCsBkCsAeBmB_DoAsBoBiDS]eB_DMSGMEGw@yA_BgDm@oAo@sAq@wAs@}AGMeCmFSc@gCuFKSoC}FoCeGs@{AoAqCqBcEOYw@iBeEcJsBoEq@uAWi@IQMYo@uAISIMCIgAcCWk@g@iAEM{B{E}AiDy@gBi@mAk@oA_AqB{A_DKUi@eAoD_IAEo@uAeAcCKUKUaBkDYi@iCqFGO{BaFcA{B}@oB{@eB_AqBeCkFeA{BMW]s@CIWk@o@wAM[AAGMIS_AkBWi@g@eAIOMWa@}@iB}D}FoMuCiGAAgAcCcEcJmFwLmCgGkBgEa@}@gByDyCuGkAkC{@kBqBkE{@oB{AsDoA}Ce@}@yDmHaCkEaB{CkCqEqBcDcBiCYc@iCqD{AoBmCoDoCoDe@k@Wa@CCUYy@aAeIoJy@aAyAcB[a@EEIIIKa@e@y@cAY[uAiBQS[a@a@m@UY]_@u@}@KOIMuAiBw@eAo@y@c@m@{AkBW[_@g@kBcCiBeCk@s@_AkAcB_CIIIKOQoGmIy@eA[c@IIOSOS[c@IKkA}AuAiBaC_DyEoGaFsG{BwCkA{AeGyHoCmDa@g@s@_A}@kA[_@KMi@{@qAmBa@k@{A{BkEsHWe@MWy@yA}CuF}AuCGIuD{GIQwByDmEcI}BeESc@e@{@AAm@gAGK]k@EIm@gAiAsBm@kAGMKQcCmEc@}@AEMS{CwFOYk@aAu@qAk@cA_@u@Wk@Wg@Ye@Wi@Yg@eBaD[i@Yg@gB_DuAaCKQGM{AsC}@aBs@qAu@uA_CcE{@}AcCkDoAgB{FuHQSQSOOQSg@i@{@aAo@s@OOiBaBkAeAEEw@u@cDiCo@e@gDeCgBgAqBkAoDiBu@a@yEqBaA[kBm@w@W}DcAiAYoEaAs@Om@I{BWwEYiDSiCOuCIuBIcBEeAG_H[iBIqJc@eIYcAE{EUcH[_@CaI_@kBIyR{@wKc@kCKuMo@aDOcNi@oI[gG_@YASC}AIeFS{CMmAEeEQcAGgDQ}CMuH[y@EmAE{AIcH[kCKi@CmDOkCMmGW{BKg@CuAGa@CiBGgDQsDQgCQ{DM_@AsAEcDOi@?yBC}A?y@Cq@@wBBqABwBLA?wAFw@F{BLI@aGZsCPW@eBDaBBs@?iDB{DCA?wEUoBIwHs@wDm@}GsAWGqBc@]IqA[SE_AWMGmBq@kFsBSIOGgDyACAaEuBMIaHyDgCsAQIq@]eB}@AA]U_@WWOKG_@Y_@WaAm@a@W{@i@iBgA_DoBeFuCwC{AWQcDgBiE_CkEcCoAs@_CyAiCkBOKgDyCaDyCMKy@w@uG{Gu@w@k@o@c@i@MOA?EGGIKM{AcB{@aAoB{BwBmCGGU[MO_JcKaAiAw@aAcAmAcS}UiEiFSSSWkPkReAmAiJ}KgDyDkE}EOQgC}CsA_BQSu@y@SUEEW[AAsA_BEGGIq@w@e@i@IKcBmB?AoB{BiAqA}DgE}FaFoBqAm@a@kDiBsAq@a@SGC}Bu@cD}@s@Mg@IiB[eC[yBMaBC]?uDCg@?kC?wD@wE?gF@gEBkDBQ?Y@}A?Y@Q?M?[@I?{@BA?s@@mGFc@?oCBkA@cA?qBAaA@_HFgA@oCBQ?Q?kBBgA?cIFsH@wA@{NLaEHs@?wNJsB@gC@aDBuGFyC@mA?aCBi@?_FAm@?aDA{HM{@EA?c@EA?mBMiCa@mCc@G?gB[WCg@Is@MiAOwCg@k@IiC[mB[kDk@mEy@}B_@sAUgCg@iASoE}@gAQc@IoB]k@Qo@KMAqAW[GWCGA[EYEqAWEAOCu@Mc@G{B_@oHeAOCu@OAAqEw@iGeAaD_@GA[Ga@IeAQkB]c@I}@Oe@IMCYGA?UGwAU_@Ic@Ia@IqNgCkB]mCg@iDi@cIwAkDm@EAiKsB]IcAQuDq@WGaB]yEsAA?u@QMEOEeBc@YIa@Mw@SyAe@MEq@SwAc@oBm@uC}@mAa@wBq@m@QCAiBi@aBg@eBg@oDiAe@Ma@MSIaBe@sBo@wBs@aCu@y@Uu@WyBq@cBi@sBo@mIgCyIkCkEqA{Ae@oA_@eA]iA]gBi@q@Si@QeBk@SGIAUIMCOGMEC?GC[IEA[KWIICOEOGmA_@c@M[Kg@O}@WkBk@mBm@wBo@yAc@aCu@uC{@eA[gBi@mBm@]KyEyAyBq@yBq@eDcAeA[A?_@MgBk@c@MKE_AW[Kc@Oa@MeA[yKkD_VoHCAqEuAsC{@_Bg@oGqBi@OqEwAkA_@yBq@_GeBaCu@}FcBoBk@uRqEcAW]IqBi@eBg@qBo@oBm@yBq@{Bs@mA_@mBk@u@WmCy@oDgAsFeB[K[IGCYKeA[q@Ui@O}@YUIiA]kCy@GC}@YYI[KcA[gA]gBi@EAe@O[KsEwA]McH_CoBq@qBq@uBq@{@Y}@YICc@MCAYMQGMEeCw@mBm@_@KWIsBq@eA[aF}AqDeAQGcA]uBq@a@Ma@M[Mo@SiBi@aBg@gDcAeCw@aDcAyBs@sBq@a@Mc@QeA_@s@WOG{Am@oAe@m@SwB_AA?{CwAQKWKYOu@_@{Aw@mBeAuA}@c@WoAy@sBuAyB}A]WcAs@iAy@GEWO[WEEq@e@[U]YAA}@w@SOWU[Wa@a@QOy@y@OQcAeA{@y@y@}@UW]]_@c@}AiBwAcBcAoAq@_Ay@kAcBmC{@wAm@gAe@}@g@_AAC{@aB}@cBuAiCy@yAaCeEiAkBOWy@sAs@oAEGMSIMYg@qAuBS_@g@{@sAwBc@w@gAgBiCiEe@y@sA{BkAoB]k@kAqBm@cAaDqF_@o@c@y@iAqBKSOUiAmB_@o@oAuBEIaBkC{AcCcBsC[g@cAcB_@o@GKMSm@cAc@u@_@o@kAmBCE}AiCGMcAcBg@y@KOEKeAgBKOS[u@oAYg@g@{@wBoDcCaEcBmCaA{AaAyAcB_CMQKQ_@g@MSc@m@UY[c@QUIK_@g@i@q@i@s@OSi@o@W[oA{Ac@g@gBkBwAwAmAgAk@g@sAgAo@e@e@_@kA{@wAeAw@k@iAw@gAy@q@a@YOo@a@q@_@m@[i@Wy@]gAa@u@Wy@Wo@QsA[}@WmAWwBo@gAYaBa@_Ba@gBe@WGeAYo@OKC]IeAYeAWUGwA]wAa@mAYuA]mBg@_Ba@mBg@yCu@iAYyEmAoCq@OEUAo@Os@WkAU_ASi@OmBe@gCo@g@QkBe@cCo@OE_Ck@gD{@kCs@mBe@cD_AoA]gA]iBs@qAg@c@Om@UMEsHqDuL_GYM_B{@sDuBIEeC{A{BkAQK_F_Ck@[MKwAcAo@_@kAk@ECa@Sy@c@EE[K]OqAo@iAi@iAe@{Ao@e@QaAWeBc@}A]sB]g@Gu@K{AOwAMG?i@CgAEuDKaHSW?WAaISoBCw@Cc@C[?i@?YAcBCw@CoB@_@B{@BwALwAPM@sIFgFk@{DmA{IaDgCy@_FcCiCaAeBo@gCe@yAKmDIaEE}EE_E?cDZqCd@g@Lw@TgDdAyChAuDrAkBt@wEvA_EfA{ErAmEpAiA^m@Vi@d@kCbCgDfC_CxAa@VUNmCjB@F'}, 'start_location': {'lat': 50.972551, 'lng': 11.038499}, 'transit_details': {'arrival_stop': {'location': {'lat': 52.5250839, 'lng': 13.369402}, 'name': 'Berlin Central Station'}, 'arrival_time': {'text': '3:53\\u202fPM', 'time_zone': 'Europe/Berlin', 'value': 1687096380}, 'departure_stop': {'location': {'lat': 50.972551, 'lng': 11.038499}, 'name': 'Erfurt Central Station'}, 'departure_time': {'text': '2:11\\u202fPM', 'time_zone': 'Europe/Berlin', 'value': 1687090260}, 'headsign': 'Berlin Hbf', 'line': {'agencies': [{'name': 'DB Fernverkehr AG', 'url': 'https://www.bahn.de/'}], 'color': '#f01414', 'short_name': 'ICE1004', 'text_color': '#ffffff', 'vehicle': {'icon': '//maps.gstatic.com/mapfiles/transit/iw2/6/rail2.png', 'local_icon': '//maps.gstatic.com/mapfiles/transit/iw2/6/de-db-ice-high-speed-trains.png', 'name': 'High speed train', 'type': 'HIGH_SPEED_TRAIN'}}, 'num_stops': 3}, 'travel_mode': 'TRANSIT'}, {'distance': {'text': '0.2 km', 'value': 205}, 'duration': {'text': '1 min', 'value': 86}, 'end_location': {'lat': 52.52585999999999, 'lng': 13.3696436}, 'html_instructions': 'Walk to Berlin Central Station, Hauptbahnhof, Europaplatz 1, 10557 Berlin, Germany', 'polyline': {'points': 'wxq_IwerpArAqCoF`B'}, 'start_location': {'lat': 52.5250839, 'lng': 13.369402}, 'steps': [{'distance': {'text': '68 m', 'value': 68}, 'duration': {'text': '1 min', 'value': 69}, 'end_location': {'lat': 52.5246585, 'lng': 13.3701334}, 'html_instructions': 'Take exit <span class=\"location\">Berlin Hauptbahnhof</span>', 'polyline': {'points': 'wxq_IwerpArAqC'}, 'start_location': {'lat': 52.5250839, 'lng': 13.369402}, 'travel_mode': 'WALKING'}, {'distance': {'text': '0.1 km', 'value': 137}, 'duration': {'text': '1 min', 'value': 17}, 'end_location': {'lat': 52.52585999999999, 'lng': 13.3696436}, 'polyline': {'points': 'cvq_IijrpAoF`B'}, 'start_location': {'lat': 52.5246585, 'lng': 13.3701334}, 'travel_mode': 'WALKING'}], 'travel_mode': 'WALKING'}], 'traffic_speed_entry': [], 'via_waypoint': []}], 'overview_polyline': {'points': 'gf`jHc{gr@_pAm`GmxBkfA{qFaaA{jOaoCs~Eyk@m~FaKm|Dui@{hDqbC_`LieDgyE|`@imGn@ogBzg@yv@xaCiaBhxDwdBjpEwqAoHi}@qaAo`AssA}~BcJy}FpBifEty@{uK~eDcx@yNqa@ol@wbEa_Eo|Acm@k~AbUixFbsBisCek@wuD}xA_oIoGqnCaf@k_HadJsqE_{CwiGowDm~Bk`Bsq@_vA_xAhaAaw@as@qs@keCwn@gx@oAyiBlB}m@tj@aVd^aKyIqjAqL{gFxPmnFou@kfCcr@_`GqEc{IiLsvBn]quC_vFooQm~DmkRww@elIwlA}eEyvAe|AuH}kBkj@kbBujBw{A_q@oqAuYqkCohA{}F_hCcuB{aA_uBys@goGkqA_dAiIoeDamAkpCyi@{Oo^h_@ebBgj@wlH{eJ_kBkdCmy@meBudAk~@qjBmcFmnAebBohC|DglBaqAeaCw^elAb~@wl@mN}cA{q@oM_fAeDexByjAgeAw\\\\|Xa`A_RouCge@{tBkvBooBc\\\\ooAnPotDfpFgiB|iBgjA~kAsgB|b@kmCypBcfCizAgVodBydAd^icExkAicBdNelAaf@i}Aw|@el@{uAg_Am`@{aAgMmx@amBgiA}mAw{@wbAu@mbEdYgpEj~@goNc~AkeLcViyFamAknCgfA_lCajCws@ky@{q@eRuxAhn@qtEdIu_Fmd@anDpo@_rC`wAypAty@}dFyHsnD`o@kbC`fCajMjo@u{FoTuhDrNgoHhsBsxJbc@_}EwdAk_G_u@oxH`{@msFvWe{H|oC{uIi~@slGmx@afCw@msFmZmvBon@mNa_AgUa|CsaFmt@_qHoeA_mFieCydC}mDeoDy~BwbFogDmuOmyKexb@k{I{cNsp@yvBomGgvFexAeqBg\\\\kk@yo@aoAe{BuiHojCewJ}kAsnGaqG}lQ_sBirEct@cuGmYo|Ae{@yXqpCgMkvA{[a`AjMoh@zc@c~@gOuy@kdBuH{aC{wB{hSklGszTwbBo~EgcE{qEidFexAms@ghBmgA{cAuu@{e@y_@wtCci@i`CeeBkuC_eDetFooCssEmwKoxQusDsaHowA_|@cwA{nBaY_uGy|@}uDwcBitBwtBatCq`BwkGocBoqLedBuvTuqCkvFczAetBu`Css@emBscA{iAmzBgtBirEsmGayJymAmnAylEsXwqFcR}uD{tCqcBciBe|AcGkpFuQwjD}q@{dKk}CyjC_eA_dBsiCwbBcxBkrDoiAsvDer@qiBhf@'}, 'summary': '', 'warnings': ['Walking directions are in beta. Use caution – This route may be missing sidewalks or pedestrian paths.'], 'waypoint_order': []}]\n"
     ]
    }
   ],
   "source": [
    "start = \"Karlsruhe HBF\"\n",
    "end = \"Berlin HBF\"\n",
    "\n",
    "\n",
    "distance, duration, waypoints, routes  = GmapsUtils.calculate_route_gmaps(\n",
    "    start,\n",
    "    end,\n",
    "    'transit'\n",
    ")\n",
    "\n",
    "print(f\"{t_du=}\")\n"
   ]
  },
  {
   "cell_type": "code",
   "execution_count": 3,
   "metadata": {},
   "outputs": [],
   "source": [
    "\n",
    "\n",
    "def get_environment_score():\n",
    "    # start = request.args.get(\"start\")\n",
    "    # end = request.args.get(\"end\")\n",
    "    from_loc = \"Karlsruhe HBF\"\n",
    "    to_loc = \"Istanbul\"\n",
    "\n",
    "    # from_loc = request.args.get(\"from\") # get data from frontend\n",
    "    # to_loc = request.args.get(\"to\") # get data from frontend\n",
    "\n",
    "\n",
    "    (w_dist, w_dur, w_wp, w_r) = GmapsUtils.calculate_route_gmaps(\n",
    "        from_loc,\n",
    "        to_loc,\n",
    "        'walking'\n",
    "    )\n",
    "    print(f\"{w_dist=}\")\n",
    "    (b_dist, b_dur, b_wp, b_r) = GmapsUtils.calculate_route_gmaps(\n",
    "        from_loc,\n",
    "        to_loc,\n",
    "        'biking'\n",
    "    )\n",
    "    print(f\"{b_dist=}\")\n",
    "\n",
    "    (d_dist, d_dur, d_wp, d_r) = GmapsUtils.calculate_route_gmaps(\n",
    "        from_loc,\n",
    "        to_loc,\n",
    "        'driving'\n",
    "    )\n",
    "    print(f\"{d_dist=}\")\n",
    "\n",
    "    (p_dist, p_dur, p_wp, p_r) = GmapsUtils.calculate_route_gmaps(\n",
    "        from_loc,\n",
    "        to_loc,\n",
    "        'transit'\n",
    "    )\n",
    "    print(f\"{p_dist=}\")\n",
    "\n",
    "\n",
    "\n",
    "    text = f\"You have to travel from {from_loc} to {to_loc}. Please rate each method with a singular score of 0 (least likely) to 100 (most likely) which transportation you would like to take if you consider CO2 emissions and travel time. You are an environmentally friendly person, but if the travel time is long or unrealistic, you prefer faster options. The following travel methods are available: walking, bicycle, driving, public_transportation, plane Give the results only (one score per travel method) back in JSON format.\"\n",
    "    \n",
    "    if w_dist is not None:\n",
    "        text += f\"\\nTake the following information into consideration:\\n\"\n",
    "        text += f\"(walking distance (m), walking duration (min))={(w_dist, w_dur)}\"\n",
    "        text += f\"(public transportation distance (m), public transportation duration (min))={(p_dist, p_dur)}\"\n",
    "        text += f\"(driving distance (m), driving duration (min))={(d_dist, d_dur)}\"\n",
    "        text += f\"(bicycle distance (m), bicycle duration (min))={(b_dist, b_dur)}\"\n",
    "\n",
    "\n",
    "\n",
    "    message = [{\"role\": \"system\", \"content\": text}]\n",
    "\n",
    "    print(f\"{message=}\")\n",
    "    chat = openai.ChatCompletion.create(\n",
    "        # model=\"gpt-4\",\n",
    "        model=\"gpt-3.5-turbo\",\n",
    "        messages=message\n",
    "    )\n",
    "    reply = chat.choices[0].message.content\n",
    "\n",
    "    print(f\"{reply=}\")\n",
    "    message.append({\"role\":\"assistant\", \"content\": reply})\n",
    "\n",
    "    \n",
    "\n",
    "    text_2 = f\"Now provide a catastrophe score for how bad the climate change effects would be if the entire humanity took comparable routes every day. Give a score between 0 and 100 for each method. Give the results only (one score per travel method) in JSON format\"\n",
    "\n",
    "    text_2 += f\"For the method 'car', also take into consideration the amount of maneuvers (left and right turns) it would take to realize the route whilst calculating the score. Amount of manuevers for method car: {len(GmapsUtils.get_maneuvers(d_r))}\"\n",
    "    \n",
    "\n",
    "    message.append({\"role\":\"system\", \"content\": text_2})\n",
    "\n",
    "    chat_2 = openai.ChatCompletion.create(\n",
    "        # model=\"gpt-4\",\n",
    "        model=\"gpt-3.5-turbo\",\n",
    "\n",
    "        messages=message\n",
    "    )\n",
    "    reply_2 = chat_2.choices[0].message.content\n",
    "\n",
    "\n",
    "    response_object = {}\n",
    "    response_object['reply_1'] = reply\n",
    "    response_object['reply_2'] = reply_2 \n",
    "    return response_object\n"
   ]
  },
  {
   "cell_type": "code",
   "execution_count": 8,
   "metadata": {},
   "outputs": [
    {
     "ename": "NameError",
     "evalue": "name 'score_responses' is not defined",
     "output_type": "error",
     "traceback": [
      "\u001b[1;31m---------------------------------------------------------------------------\u001b[0m",
      "\u001b[1;31mNameError\u001b[0m                                 Traceback (most recent call last)",
      "Cell \u001b[1;32mIn[8], line 1\u001b[0m\n\u001b[1;32m----> 1\u001b[0m score_responses\n",
      "\u001b[1;31mNameError\u001b[0m: name 'score_responses' is not defined"
     ]
    }
   ],
   "source": [
    "score_responses"
   ]
  },
  {
   "cell_type": "code",
   "execution_count": 4,
   "metadata": {},
   "outputs": [
    {
     "name": "stdout",
     "output_type": "stream",
     "text": [
      "w_dist=2189463\n",
      "b_dist=2186150\n",
      "d_dist=2186150\n",
      "p_dist=2288055\n",
      "message=[{'role': 'system', 'content': 'You have to travel from Karlsruhe HBF to Istanbul. Please rate each method with a singular score of 0 (least likely) to 100 (most likely) which transportation you would like to take if you consider CO2 emissions and travel time. You are an environmentally friendly person, but if the travel time is long or unrealistic, you prefer faster options. The following travel methods are available: walking, bicycle, driving, public_transportation, plane Give the results only (one score per travel method) back in JSON format.\\nTake the following information into consideration:\\n(walking distance (m), walking duration (min))=(2189463, 1609495)(public transportation distance (m), public transportation duration (min))=(2288055, 140133)(driving distance (m), driving duration (min))=(2186150, 80883)(bicycle distance (m), bicycle duration (min))=(2186150, 80883)'}]\n",
      "reply='{\\n  \"walking\": 0,\\n  \"bicycle\": 10,\\n  \"driving\": 40,\\n  \"public_transportation\": 80,\\n  \"plane\": 100\\n}'\n"
     ]
    }
   ],
   "source": [
    "import json\n",
    "score_responses = get_environment_score()\n",
    "\n",
    "\n",
    "\n",
    "efficiency_scores = json.loads(score_responses.get('reply_1'))\n",
    "catastrophy_scores = json.loads(score_responses.get('reply_2'))"
   ]
  },
  {
   "cell_type": "code",
   "execution_count": 9,
   "metadata": {},
   "outputs": [
    {
     "data": {
      "text/plain": [
       "{'walking': 0,\n",
       " 'bicycle': 10,\n",
       " 'driving': 40,\n",
       " 'public_transportation': 80,\n",
       " 'plane': 100}"
      ]
     },
     "execution_count": 9,
     "metadata": {},
     "output_type": "execute_result"
    }
   ],
   "source": [
    "efficiency_scores"
   ]
  },
  {
   "cell_type": "code",
   "execution_count": 8,
   "metadata": {},
   "outputs": [
    {
     "data": {
      "text/plain": [
       "0"
      ]
     },
     "execution_count": 8,
     "metadata": {},
     "output_type": "execute_result"
    }
   ],
   "source": [
    "catastrophy_scores['walking']"
   ]
  },
  {
   "cell_type": "code",
   "execution_count": 6,
   "metadata": {},
   "outputs": [
    {
     "data": {
      "text/plain": [
       "{'walking': 0,\n",
       " 'bicycle': 5,\n",
       " 'driving': 90,\n",
       " 'public_transportation': 30,\n",
       " 'plane': 95}"
      ]
     },
     "execution_count": 6,
     "metadata": {},
     "output_type": "execute_result"
    }
   ],
   "source": [
    "catastrophy_scores"
   ]
  },
  {
   "cell_type": "code",
   "execution_count": null,
   "metadata": {},
   "outputs": [],
   "source": [
    "# karlsruhe - berlin (16 seconds)"
   ]
  },
  {
   "cell_type": "code",
   "execution_count": null,
   "metadata": {},
   "outputs": [],
   "source": [
    "# ('{\\n  \"walking\": 0,\\n  \"bicycle\": 50,\\n  \"plane\": 10,\\n  \"driving\": 60,\\n  \"public transportation\": 100\\n}',\n",
    "#  '{\\n  \"walking\": 0,\\n  \"bicycle\": 5,\\n  \"plane\": 100,\\n  \"driving\": 90,\\n  \"public transportation\": 30\\n}')"
   ]
  },
  {
   "cell_type": "code",
   "execution_count": null,
   "metadata": {},
   "outputs": [],
   "source": [
    "# ('{\\n  \"walking\": 0,\\n  \"bicycle\": 10,\\n  \"plane\": 70,\\n  \"driving\": 35,\\n  \"public_transportation\": 100\\n}',\n",
    "#  '{\\n  \"walking\": 0,\\n  \"bicycle\": 5,\\n  \"plane\": 100,\\n  \"driving\": 80,\\n  \"public_transportation\": 30\\n}')"
   ]
  },
  {
   "cell_type": "code",
   "execution_count": null,
   "metadata": {},
   "outputs": [],
   "source": [
    "# ('{\\n  \"walking\": 0,\\n  \"bicycle\": 25,\\n  \"plane\": 95,\\n  \"driving\": 7,\\n  \"public transportation\": 90\\n}',\n",
    "#  '{\\n  \"walking\": 0,\\n  \"bicycle\": 10,\\n  \"plane\": 96,\\n  \"driving\": 81,\\n  \"public transportation\": 18\\n}')"
   ]
  },
  {
   "cell_type": "code",
   "execution_count": null,
   "metadata": {},
   "outputs": [],
   "source": [
    "# karlsruhe to nanjing china"
   ]
  },
  {
   "cell_type": "code",
   "execution_count": null,
   "metadata": {},
   "outputs": [],
   "source": []
  }
 ],
 "metadata": {
  "kernelspec": {
   "display_name": "pycdcp",
   "language": "python",
   "name": "python3"
  },
  "language_info": {
   "codemirror_mode": {
    "name": "ipython",
    "version": 3
   },
   "file_extension": ".py",
   "mimetype": "text/x-python",
   "name": "python",
   "nbconvert_exporter": "python",
   "pygments_lexer": "ipython3",
   "version": "3.10.11"
  },
  "orig_nbformat": 4
 },
 "nbformat": 4,
 "nbformat_minor": 2
}
