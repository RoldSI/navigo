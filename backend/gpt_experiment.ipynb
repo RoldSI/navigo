{
 "cells": [
  {
   "cell_type": "code",
   "execution_count": 1,
   "metadata": {},
   "outputs": [],
   "source": [
    "import openai\n",
    "from utils import GmapsUtils\n",
    "from dotenv import dotenv_values"
   ]
  },
  {
   "cell_type": "code",
   "execution_count": 2,
   "metadata": {},
   "outputs": [],
   "source": [
    "\n",
    "env_vars = dotenv_values(\".env\")\n",
    "OPENAI_API_KEY = env_vars[\"OPENAI_API_KEY\"]\n",
    "openai.api_key = OPENAI_API_KEY"
   ]
  },
  {
   "cell_type": "code",
   "execution_count": 13,
   "metadata": {},
   "outputs": [
    {
     "name": "stdout",
     "output_type": "stream",
     "text": [
      "GMAPS FAILED\n",
      "t_dp=None\n"
     ]
    }
   ],
   "source": [
    "# start = \"Karlsruhe HBF\"\n",
    "# end = \"Tokyo\"\n",
    "\n",
    "# (t_dp, t_gm, t_di, t_du) = GmapsUtils.calculate_route_gmaps(\n",
    "#     start,\n",
    "#     end,\n",
    "#     'transit'\n",
    "# )\n",
    "\n",
    "# print(f\"{t_dp=}\")\n"
   ]
  },
  {
   "cell_type": "code",
   "execution_count": 3,
   "metadata": {},
   "outputs": [],
   "source": [
    "\n",
    "\n",
    "def get_environment_score():\n",
    "    # start = request.args.get(\"start\")\n",
    "    # end = request.args.get(\"end\")\n",
    "    from_loc = \"Karlsruhe HBF\"\n",
    "    to_loc = \"Istanbul\"\n",
    "\n",
    "    # from_loc = request.args.get(\"from\") # get data from frontend\n",
    "    # to_loc = request.args.get(\"to\") # get data from frontend\n",
    "\n",
    "\n",
    "    (w_dist, w_dur, w_wp, w_r) = GmapsUtils.calculate_route_gmaps(\n",
    "        from_loc,\n",
    "        to_loc,\n",
    "        'walking'\n",
    "    )\n",
    "    print(f\"{w_dist=}\")\n",
    "    (b_dist, b_dur, b_wp, b_r) = GmapsUtils.calculate_route_gmaps(\n",
    "        from_loc,\n",
    "        to_loc,\n",
    "        'bicycling'\n",
    "    )\n",
    "    print(f\"{b_dist=}\")\n",
    "\n",
    "    (d_dist, d_dur, d_wp, d_r) = GmapsUtils.calculate_route_gmaps(\n",
    "        from_loc,\n",
    "        to_loc,\n",
    "        'driving'\n",
    "    )\n",
    "    print(f\"{d_dist=}\")\n",
    "\n",
    "    (p_dist, p_dur, p_wp, p_r) = GmapsUtils.calculate_route_gmaps(\n",
    "        from_loc,\n",
    "        to_loc,\n",
    "        'transit'\n",
    "    )\n",
    "    print(f\"{p_dist=}\")\n",
    "\n",
    "\n",
    "\n",
    "    text = f\"You have to travel from {from_loc} to {to_loc}. Please rate each method with a singular score of 0 (least likely) to 100 (most likely) which transportation you would like to take if you consider CO2 emissions and travel time. You are an environmentally friendly person, but if the travel time is long or unrealistic, you prefer faster options. The following travel methods are available: walking, bicycle, driving, public_transportation, plane Give the results only (one score per travel method) back in JSON format.\"\n",
    "    \n",
    "    if w_dist is not None:\n",
    "        text += f\"\\nTake the following information into consideration:\\n\"\n",
    "        text += f\"(walking distance (m), walking duration (min))={(w_dist, w_dur)}\"\n",
    "        text += f\"(public transportation distance (m), public transportation duration (min))={(p_dist, p_dur)}\"\n",
    "        text += f\"(driving distance (m), driving duration (min))={(d_dist, d_dur)}\"\n",
    "        text += f\"(bicycle distance (m), bicycle duration (min))={(b_dist, b_dur)}\"\n",
    "\n",
    "\n",
    "\n",
    "    message = [{\"role\": \"system\", \"content\": text}]\n",
    "\n",
    "    print(f\"{message=}\")\n",
    "    chat = openai.ChatCompletion.create(\n",
    "        # model=\"gpt-4\",\n",
    "        model=\"gpt-3.5-turbo\",\n",
    "        messages=message\n",
    "    )\n",
    "    reply = chat.choices[0].message.content\n",
    "\n",
    "    print(f\"{reply=}\")\n",
    "    message.append({\"role\":\"assistant\", \"content\": reply})\n",
    "\n",
    "    \n",
    "\n",
    "    text_2 = f\"Now provide a catastrophe score for how bad the climate change effects would be if the entire humanity took comparable routes every day. Give a score between 0 and 100 for each method. Give the results only (one score per travel method) in JSON format\"\n",
    "\n",
    "    text_2 += f\"For the method 'car', also take into consideration the amount of maneuvers (left and right turns) it would take to realize the route whilst calculating the score. Amount of manuevers for method car: {len(GmapsUtils.get_maneuvers(d_r))}\"\n",
    "    \n",
    "\n",
    "    message.append({\"role\":\"system\", \"content\": text_2})\n",
    "\n",
    "    chat_2 = openai.ChatCompletion.create(\n",
    "        # model=\"gpt-4\",\n",
    "        model=\"gpt-3.5-turbo\",\n",
    "\n",
    "        messages=message\n",
    "    )\n",
    "    reply_2 = chat_2.choices[0].message.content\n",
    "\n",
    "\n",
    "    return (reply, reply_2)\n"
   ]
  },
  {
   "cell_type": "code",
   "execution_count": 4,
   "metadata": {},
   "outputs": [
    {
     "name": "stdout",
     "output_type": "stream",
     "text": [
      "GMAPS FAILED\n",
      "message=[{'role': 'system', 'content': \"You have to travel from Karlsruhe HBF to Istanbul. Please rate each method with a singular score of 0 (least likely) to 100 (most likely) which transportation you would like to take if you consider CO2 emissions and travel time. You are an environmentally friendly person, but if the travel time is long or unrealistic, you prefer faster options. The following travel methods are available: walking, bicycle, driving, public_transportation, plane Give the results only (one score per travel method) back in JSON format.\\nTake the following information into consideration:\\n(walking distance (m), walking duration (min))=(2189463, 1609495)(public transportation distance (m), public transportation duration (min))=(2288055, 140133)(driving distance (m), driving duration (min))=(2186150, 80883)(bicycle distance (m), bicycle duration (min))=(None, {'available_travel_modes': ['DRIVING', 'WALKING', 'TRANSIT'], 'geocoded_waypoints': [{'geocoder_status': 'OK', 'partial_match': True, 'place_id': 'ChIJb6KYDmwGl0cRj7Yb11xlzdU', 'types': ['establishment', 'point_of_interest', 'transit_station']}, {'geocoder_status': 'OK', 'place_id': 'ChIJawhoAASnyhQR0LABvJj-zOE', 'types': ['locality', 'political']}], 'routes': [], 'status': 'ZERO_RESULTS'})\"}]\n",
      "reply='{\\n  \"walking\": 10, \\n  \"bicycle\": 0, \\n  \"driving\": 50, \\n  \"public_transportation\": 90, \\n  \"plane\": 100\\n}'\n"
     ]
    },
    {
     "data": {
      "text/plain": [
       "('{\\n  \"walking\": 10, \\n  \"bicycle\": 0, \\n  \"driving\": 50, \\n  \"public_transportation\": 90, \\n  \"plane\": 100\\n}',\n",
       " '{\\n  \"walking\": 5,\\n  \"bicycle\": 10,\\n  \"driving\": 90,\\n  \"public_transportation\": 15,\\n  \"plane\": 95\\n}')"
      ]
     },
     "execution_count": 4,
     "metadata": {},
     "output_type": "execute_result"
    }
   ],
   "source": [
    "get_environment_score()"
   ]
  },
  {
   "cell_type": "code",
   "execution_count": null,
   "metadata": {},
   "outputs": [],
   "source": [
    "# karlsruhe - berlin (16 seconds)"
   ]
  },
  {
   "cell_type": "code",
   "execution_count": null,
   "metadata": {},
   "outputs": [],
   "source": [
    "# ('{\\n  \"walking\": 0,\\n  \"bicycle\": 50,\\n  \"plane\": 10,\\n  \"driving\": 60,\\n  \"public transportation\": 100\\n}',\n",
    "#  '{\\n  \"walking\": 0,\\n  \"bicycle\": 5,\\n  \"plane\": 100,\\n  \"driving\": 90,\\n  \"public transportation\": 30\\n}')"
   ]
  },
  {
   "cell_type": "code",
   "execution_count": null,
   "metadata": {},
   "outputs": [],
   "source": [
    "# ('{\\n  \"walking\": 0,\\n  \"bicycle\": 10,\\n  \"plane\": 70,\\n  \"driving\": 35,\\n  \"public_transportation\": 100\\n}',\n",
    "#  '{\\n  \"walking\": 0,\\n  \"bicycle\": 5,\\n  \"plane\": 100,\\n  \"driving\": 80,\\n  \"public_transportation\": 30\\n}')"
   ]
  },
  {
   "cell_type": "code",
   "execution_count": null,
   "metadata": {},
   "outputs": [],
   "source": [
    "# ('{\\n  \"walking\": 0,\\n  \"bicycle\": 25,\\n  \"plane\": 95,\\n  \"driving\": 7,\\n  \"public transportation\": 90\\n}',\n",
    "#  '{\\n  \"walking\": 0,\\n  \"bicycle\": 10,\\n  \"plane\": 96,\\n  \"driving\": 81,\\n  \"public transportation\": 18\\n}')"
   ]
  },
  {
   "cell_type": "code",
   "execution_count": null,
   "metadata": {},
   "outputs": [],
   "source": [
    "# karlsruhe to nanjing china"
   ]
  },
  {
   "cell_type": "code",
   "execution_count": null,
   "metadata": {},
   "outputs": [],
   "source": []
  }
 ],
 "metadata": {
  "kernelspec": {
   "display_name": "pycdcp",
   "language": "python",
   "name": "python3"
  },
  "language_info": {
   "codemirror_mode": {
    "name": "ipython",
    "version": 3
   },
   "file_extension": ".py",
   "mimetype": "text/x-python",
   "name": "python",
   "nbconvert_exporter": "python",
   "pygments_lexer": "ipython3",
   "version": "3.10.11"
  },
  "orig_nbformat": 4
 },
 "nbformat": 4,
 "nbformat_minor": 2
}
